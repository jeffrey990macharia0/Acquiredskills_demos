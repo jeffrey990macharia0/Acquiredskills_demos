{
 "cells": [
  {
   "cell_type": "markdown",
   "id": "fa9f88da-91b4-41f1-923f-7ebf821da002",
   "metadata": {},
   "source": [
    "### OCI Data Science - Useful Tips\n",
    "<details>\n",
    "<summary><font size=\"2\">Check for Public Internet Access</font></summary>\n",
    "\n",
    "```python\n",
    "import requests\n",
    "response = requests.get(\"https://oracle.com\")\n",
    "assert response.status_code==200, \"Internet connection failed\"\n",
    "```\n",
    "</details>\n",
    "<details>\n",
    "<summary><font size=\"2\">Helpful Documentation </font></summary>\n",
    "<ul><li><a href=\"https://docs.cloud.oracle.com/en-us/iaas/data-science/using/data-science.htm\">Data Science Service Documentation</a></li>\n",
    "<li><a href=\"https://docs.cloud.oracle.com/iaas/tools/ads-sdk/latest/index.html\">ADS documentation</a></li>\n",
    "</ul>\n",
    "</details>\n",
    "<details>\n",
    "<summary><font size=\"2\">Typical Cell Imports and Settings for ADS</font></summary>\n",
    "\n",
    "```python\n",
    "%load_ext autoreload\n",
    "%autoreload 2\n",
    "%matplotlib inline\n",
    "\n",
    "import warnings\n",
    "warnings.filterwarnings('ignore')\n",
    "\n",
    "import logging\n",
    "logging.basicConfig(format='%(levelname)s:%(message)s', level=logging.ERROR)\n",
    "\n",
    "import ads\n",
    "from ads.dataset.factory import DatasetFactory\n",
    "from ads.automl.provider import OracleAutoMLProvider\n",
    "from ads.automl.driver import AutoML\n",
    "from ads.evaluations.evaluator import ADSEvaluator\n",
    "from ads.common.data import ADSData\n",
    "from ads.explanations.explainer import ADSExplainer\n",
    "from ads.explanations.mlx_global_explainer import MLXGlobalExplainer\n",
    "from ads.explanations.mlx_local_explainer import MLXLocalExplainer\n",
    "from ads.catalog.model import ModelCatalog\n",
    "from ads.common.model_artifact import ModelArtifact\n",
    "```\n",
    "</details>\n",
    "<details>\n",
    "<summary><font size=\"2\">Useful Environment Variables</font></summary>\n",
    "\n",
    "```python\n",
    "import os\n",
    "print(os.environ[\"NB_SESSION_COMPARTMENT_OCID\"])\n",
    "print(os.environ[\"PROJECT_OCID\"])\n",
    "print(os.environ[\"USER_OCID\"])\n",
    "print(os.environ[\"TENANCY_OCID\"])\n",
    "print(os.environ[\"NB_REGION\"])\n",
    "```\n",
    "</details>"
   ]
  },
  {
   "cell_type": "markdown",
   "id": "55718ab3-6082-4a97-9fbc-83fe4cc3c327",
   "metadata": {},
   "source": [
    "## <font color=\"white\">0. Library Setup</font>"
   ]
  },
  {
   "cell_type": "markdown",
   "id": "8cd37689-b987-4ac5-a5df-83ae2f0ca74c",
   "metadata": {},
   "source": [
    "- Install and Activate the Conda Pack: automlx251_p311_cpu_x86_64_v2"
   ]
  },
  {
   "cell_type": "markdown",
   "id": "8cc46be8-2c22-4109-bbe6-97eda0b52da7",
   "metadata": {},
   "source": [
    "- Basic setup for the Notebook. We will be running some magic commands to display matplotlib plots and to automatically reload modules\n",
    "\n"
   ]
  },
  {
   "cell_type": "code",
   "execution_count": 1,
   "id": "2abdb2ce-fba6-4ec4-b684-b1fb3626b1d2",
   "metadata": {
    "tags": []
   },
   "outputs": [],
   "source": [
    "%matplotlib inline\n",
    "%load_ext autoreload\n",
    "%autoreload 2"
   ]
  },
  {
   "cell_type": "markdown",
   "id": "2c8d7923-acb5-4428-b64e-0b82ca7662cf",
   "metadata": {},
   "source": [
    "Load the required modules such as \n",
    "- gzip: compress/decompress files\n",
    "- pandas: Accessing data\n",
    "- numpy: Preprocessing data\n",
    "- seaborn: Visualization\n",
    "- matplotlib: Visualization\n",
    "- sklearn: Mathematical Operations and other ML tasks"
   ]
  },
  {
   "cell_type": "code",
   "execution_count": 56,
   "id": "0d434dfd-d1fc-4dca-9ea1-2478aa48380b",
   "metadata": {
    "tags": []
   },
   "outputs": [],
   "source": [
    "import gzip\n",
    "import pandas as pd\n",
    "import numpy as np\n",
    "import matplotlib.pyplot as plt\n",
    "import seaborn as sns\n",
    "from sklearn.metrics import roc_auc_score,confusion_matrix,make_scorer, f1_score\n",
    "from sklearn.linear_model import LogisticRegression\n",
    "from sklearn.compose import make_column_selector as selector\n",
    "from sklearn.impute import SimpleImputer\n",
    "from sklearn.preprocessing import StandardScaler, OneHotEncoder\n",
    "from sklearn.compose import ColumnTransformer\n",
    "from sklearn.pipeline import Pipeline\n",
    "from sklearn.datasets import fetch_openml\n",
    "from sklearn.model_selection import train_test_split"
   ]
  },
  {
   "cell_type": "code",
   "execution_count": 57,
   "id": "4e85f9c8-f138-4200-ad81-3143bbb9efa6",
   "metadata": {
    "tags": []
   },
   "outputs": [],
   "source": [
    "# Add settings for the Plots\n",
    "plt.rcParams['figure.figsize']=[10,7]\n",
    "plt.rcParams['font.size']= 15\n",
    "sns.set(color_codes=True)\n",
    "sns.set(font_scale=1.5)\n",
    "sns.set_palette(\"bright\")"
   ]
  },
  {
   "cell_type": "markdown",
   "id": "4b34b47e-9b65-4b6a-acdd-5b3c50cccb2f",
   "metadata": {},
   "source": [
    "Import and Initialize the AutoML Library"
   ]
  },
  {
   "cell_type": "code",
   "execution_count": 76,
   "id": "407acafa-8eff-4280-8447-955ba9b18f9e",
   "metadata": {
    "tags": []
   },
   "outputs": [],
   "source": [
    "import automlx\n",
    "from automlx import init"
   ]
  },
  {
   "cell_type": "markdown",
   "id": "28c0520c-c03b-4915-8318-0653efd8a015",
   "metadata": {},
   "source": [
    "## <font color=\"white\">1. Loading the Adult Census Income Dataset </font>"
   ]
  },
  {
   "cell_type": "markdown",
   "id": "b6c674e9-3ed3-48b1-a210-13b50b5f1e0b",
   "metadata": {},
   "source": [
    "Fetch the adult datase from OpenML"
   ]
  },
  {
   "cell_type": "code",
   "execution_count": 59,
   "id": "9cb5cd41-55f9-4cbf-a5cb-a483388e9926",
   "metadata": {},
   "outputs": [],
   "source": [
    "dataset=fetch_openml(name='adult',as_frame=True)\n",
    "df,y =dataset.data,dataset.target"
   ]
  },
  {
   "cell_type": "markdown",
   "id": "431e26f6-20d1-4c86-9d2f-e36df93cca8e",
   "metadata": {
    "tags": []
   },
   "source": [
    "Get an overview of the data"
   ]
  },
  {
   "cell_type": "code",
   "execution_count": 60,
   "id": "cde244e3-7a5a-41d2-8a5b-d373245c300b",
   "metadata": {
    "tags": []
   },
   "outputs": [
    {
     "data": {
      "text/html": [
       "<div>\n",
       "<style scoped>\n",
       "    .dataframe tbody tr th:only-of-type {\n",
       "        vertical-align: middle;\n",
       "    }\n",
       "\n",
       "    .dataframe tbody tr th {\n",
       "        vertical-align: top;\n",
       "    }\n",
       "\n",
       "    .dataframe thead th {\n",
       "        text-align: right;\n",
       "    }\n",
       "</style>\n",
       "<table border=\"1\" class=\"dataframe\">\n",
       "  <thead>\n",
       "    <tr style=\"text-align: right;\">\n",
       "      <th></th>\n",
       "      <th>age</th>\n",
       "      <th>workclass</th>\n",
       "      <th>fnlwgt</th>\n",
       "      <th>education</th>\n",
       "      <th>education-num</th>\n",
       "      <th>marital-status</th>\n",
       "      <th>occupation</th>\n",
       "      <th>relationship</th>\n",
       "      <th>race</th>\n",
       "      <th>sex</th>\n",
       "      <th>capitalgain</th>\n",
       "      <th>capitalloss</th>\n",
       "      <th>hoursperweek</th>\n",
       "      <th>native-country</th>\n",
       "    </tr>\n",
       "  </thead>\n",
       "  <tbody>\n",
       "    <tr>\n",
       "      <th>0</th>\n",
       "      <td>2</td>\n",
       "      <td>State-gov</td>\n",
       "      <td>77516.0</td>\n",
       "      <td>Bachelors</td>\n",
       "      <td>13.0</td>\n",
       "      <td>Never-married</td>\n",
       "      <td>Adm-clerical</td>\n",
       "      <td>Not-in-family</td>\n",
       "      <td>White</td>\n",
       "      <td>Male</td>\n",
       "      <td>1</td>\n",
       "      <td>0</td>\n",
       "      <td>2</td>\n",
       "      <td>United-States</td>\n",
       "    </tr>\n",
       "    <tr>\n",
       "      <th>1</th>\n",
       "      <td>3</td>\n",
       "      <td>Self-emp-not-inc</td>\n",
       "      <td>83311.0</td>\n",
       "      <td>Bachelors</td>\n",
       "      <td>13.0</td>\n",
       "      <td>Married-civ-spouse</td>\n",
       "      <td>Exec-managerial</td>\n",
       "      <td>Husband</td>\n",
       "      <td>White</td>\n",
       "      <td>Male</td>\n",
       "      <td>0</td>\n",
       "      <td>0</td>\n",
       "      <td>0</td>\n",
       "      <td>United-States</td>\n",
       "    </tr>\n",
       "    <tr>\n",
       "      <th>2</th>\n",
       "      <td>2</td>\n",
       "      <td>Private</td>\n",
       "      <td>215646.0</td>\n",
       "      <td>HS-grad</td>\n",
       "      <td>9.0</td>\n",
       "      <td>Divorced</td>\n",
       "      <td>Handlers-cleaners</td>\n",
       "      <td>Not-in-family</td>\n",
       "      <td>White</td>\n",
       "      <td>Male</td>\n",
       "      <td>0</td>\n",
       "      <td>0</td>\n",
       "      <td>2</td>\n",
       "      <td>United-States</td>\n",
       "    </tr>\n",
       "    <tr>\n",
       "      <th>3</th>\n",
       "      <td>3</td>\n",
       "      <td>Private</td>\n",
       "      <td>234721.0</td>\n",
       "      <td>11th</td>\n",
       "      <td>7.0</td>\n",
       "      <td>Married-civ-spouse</td>\n",
       "      <td>Handlers-cleaners</td>\n",
       "      <td>Husband</td>\n",
       "      <td>Black</td>\n",
       "      <td>Male</td>\n",
       "      <td>0</td>\n",
       "      <td>0</td>\n",
       "      <td>2</td>\n",
       "      <td>United-States</td>\n",
       "    </tr>\n",
       "    <tr>\n",
       "      <th>4</th>\n",
       "      <td>1</td>\n",
       "      <td>Private</td>\n",
       "      <td>338409.0</td>\n",
       "      <td>Bachelors</td>\n",
       "      <td>13.0</td>\n",
       "      <td>Married-civ-spouse</td>\n",
       "      <td>Prof-specialty</td>\n",
       "      <td>Wife</td>\n",
       "      <td>Black</td>\n",
       "      <td>Female</td>\n",
       "      <td>0</td>\n",
       "      <td>0</td>\n",
       "      <td>2</td>\n",
       "      <td>Cuba</td>\n",
       "    </tr>\n",
       "  </tbody>\n",
       "</table>\n",
       "</div>"
      ],
      "text/plain": [
       "  age         workclass    fnlwgt  education  education-num  \\\n",
       "0   2         State-gov   77516.0  Bachelors           13.0   \n",
       "1   3  Self-emp-not-inc   83311.0  Bachelors           13.0   \n",
       "2   2           Private  215646.0    HS-grad            9.0   \n",
       "3   3           Private  234721.0       11th            7.0   \n",
       "4   1           Private  338409.0  Bachelors           13.0   \n",
       "\n",
       "       marital-status         occupation   relationship   race     sex  \\\n",
       "0       Never-married       Adm-clerical  Not-in-family  White    Male   \n",
       "1  Married-civ-spouse    Exec-managerial        Husband  White    Male   \n",
       "2            Divorced  Handlers-cleaners  Not-in-family  White    Male   \n",
       "3  Married-civ-spouse  Handlers-cleaners        Husband  Black    Male   \n",
       "4  Married-civ-spouse     Prof-specialty           Wife  Black  Female   \n",
       "\n",
       "  capitalgain capitalloss hoursperweek native-country  \n",
       "0           1           0            2  United-States  \n",
       "1           0           0            0  United-States  \n",
       "2           0           0            2  United-States  \n",
       "3           0           0            2  United-States  \n",
       "4           0           0            2           Cuba  "
      ]
     },
     "execution_count": 60,
     "metadata": {},
     "output_type": "execute_result"
    }
   ],
   "source": [
    "df.head()"
   ]
  },
  {
   "cell_type": "markdown",
   "id": "fb3a5a11-5fb8-4d19-a217-dd13d7806951",
   "metadata": {},
   "source": [
    "A quick look at the data shows that it contains a mix of both Numerical and Text Data"
   ]
  },
  {
   "cell_type": "markdown",
   "id": "9d092149-46a6-44e5-bd35-f00845c7829d",
   "metadata": {
    "tags": []
   },
   "source": [
    "## <font color=\"white\">1.1 Data Exploration</font>"
   ]
  },
  {
   "cell_type": "markdown",
   "id": "64b0c0eb-bc94-471f-85fc-6851e7a2f3bd",
   "metadata": {},
   "source": [
    "### <font color=\"white\">1.1.1 We also need to check for the data types of the columns</font>"
   ]
  },
  {
   "cell_type": "code",
   "execution_count": 61,
   "id": "3cf37e0c-cc9c-4e77-8c6b-358ea5743f4e",
   "metadata": {
    "tags": []
   },
   "outputs": [
    {
     "data": {
      "text/html": [
       "<div>\n",
       "<style scoped>\n",
       "    .dataframe tbody tr th:only-of-type {\n",
       "        vertical-align: middle;\n",
       "    }\n",
       "\n",
       "    .dataframe tbody tr th {\n",
       "        vertical-align: top;\n",
       "    }\n",
       "\n",
       "    .dataframe thead th {\n",
       "        text-align: right;\n",
       "    }\n",
       "</style>\n",
       "<table border=\"1\" class=\"dataframe\">\n",
       "  <thead>\n",
       "    <tr style=\"text-align: right;\">\n",
       "      <th></th>\n",
       "      <th>age</th>\n",
       "      <th>workclass</th>\n",
       "      <th>fnlwgt</th>\n",
       "      <th>education</th>\n",
       "      <th>education-num</th>\n",
       "      <th>marital-status</th>\n",
       "      <th>occupation</th>\n",
       "      <th>relationship</th>\n",
       "      <th>race</th>\n",
       "      <th>sex</th>\n",
       "      <th>capitalgain</th>\n",
       "      <th>capitalloss</th>\n",
       "      <th>hoursperweek</th>\n",
       "      <th>native-country</th>\n",
       "    </tr>\n",
       "  </thead>\n",
       "  <tbody>\n",
       "    <tr>\n",
       "      <th>Data type</th>\n",
       "      <td>category</td>\n",
       "      <td>category</td>\n",
       "      <td>float64</td>\n",
       "      <td>category</td>\n",
       "      <td>float64</td>\n",
       "      <td>category</td>\n",
       "      <td>category</td>\n",
       "      <td>category</td>\n",
       "      <td>category</td>\n",
       "      <td>category</td>\n",
       "      <td>category</td>\n",
       "      <td>category</td>\n",
       "      <td>category</td>\n",
       "      <td>category</td>\n",
       "    </tr>\n",
       "  </tbody>\n",
       "</table>\n",
       "</div>"
      ],
      "text/plain": [
       "                age workclass   fnlwgt education education-num marital-status  \\\n",
       "Data type  category  category  float64  category       float64       category   \n",
       "\n",
       "          occupation relationship      race       sex capitalgain capitalloss  \\\n",
       "Data type   category     category  category  category    category    category   \n",
       "\n",
       "          hoursperweek native-country  \n",
       "Data type     category       category  "
      ]
     },
     "execution_count": 61,
     "metadata": {},
     "output_type": "execute_result"
    }
   ],
   "source": [
    "pd.DataFrame({'Data type': df.dtypes}).T"
   ]
  },
  {
   "cell_type": "markdown",
   "id": "0b749580-d9da-4025-86b8-2bbcd0f9c1d5",
   "metadata": {},
   "source": [
    "### <font color=\"white\">1.1.2 Checking for Missing Values</font>"
   ]
  },
  {
   "cell_type": "code",
   "execution_count": 62,
   "id": "b7a578c2-e26f-4c7b-bb54-384a7d8922b0",
   "metadata": {
    "tags": []
   },
   "outputs": [
    {
     "data": {
      "text/html": [
       "<div>\n",
       "<style scoped>\n",
       "    .dataframe tbody tr th:only-of-type {\n",
       "        vertical-align: middle;\n",
       "    }\n",
       "\n",
       "    .dataframe tbody tr th {\n",
       "        vertical-align: top;\n",
       "    }\n",
       "\n",
       "    .dataframe thead th {\n",
       "        text-align: right;\n",
       "    }\n",
       "</style>\n",
       "<table border=\"1\" class=\"dataframe\">\n",
       "  <thead>\n",
       "    <tr style=\"text-align: right;\">\n",
       "      <th></th>\n",
       "      <th>age</th>\n",
       "      <th>workclass</th>\n",
       "      <th>fnlwgt</th>\n",
       "      <th>education</th>\n",
       "      <th>education-num</th>\n",
       "      <th>marital-status</th>\n",
       "      <th>occupation</th>\n",
       "      <th>relationship</th>\n",
       "      <th>race</th>\n",
       "      <th>sex</th>\n",
       "      <th>capitalgain</th>\n",
       "      <th>capitalloss</th>\n",
       "      <th>hoursperweek</th>\n",
       "      <th>native-country</th>\n",
       "    </tr>\n",
       "  </thead>\n",
       "  <tbody>\n",
       "    <tr>\n",
       "      <th>% missing values</th>\n",
       "      <td>0.0</td>\n",
       "      <td>5.730724</td>\n",
       "      <td>0.0</td>\n",
       "      <td>0.0</td>\n",
       "      <td>0.0</td>\n",
       "      <td>0.0</td>\n",
       "      <td>5.751198</td>\n",
       "      <td>0.0</td>\n",
       "      <td>0.0</td>\n",
       "      <td>0.0</td>\n",
       "      <td>0.0</td>\n",
       "      <td>0.0</td>\n",
       "      <td>0.0</td>\n",
       "      <td>1.754637</td>\n",
       "    </tr>\n",
       "  </tbody>\n",
       "</table>\n",
       "</div>"
      ],
      "text/plain": [
       "                  age  workclass  fnlwgt  education  education-num  \\\n",
       "% missing values  0.0   5.730724     0.0        0.0            0.0   \n",
       "\n",
       "                  marital-status  occupation  relationship  race  sex  \\\n",
       "% missing values             0.0    5.751198           0.0   0.0  0.0   \n",
       "\n",
       "                  capitalgain  capitalloss  hoursperweek  native-country  \n",
       "% missing values          0.0          0.0           0.0        1.754637  "
      ]
     },
     "execution_count": 62,
     "metadata": {},
     "output_type": "execute_result"
    }
   ],
   "source": [
    "pd.DataFrame({'% missing values': df.isnull().sum()*100 /len(df)}).T"
   ]
  },
  {
   "cell_type": "markdown",
   "id": "e4d58d3e-6706-4dff-9fc8-3dd32bfba393",
   "metadata": {},
   "source": [
    "### <font color=\"white\">1.1.3 Visualizing the distribution of the target variable - Income</font>"
   ]
  },
  {
   "cell_type": "code",
   "execution_count": 63,
   "id": "d8253263-d2cd-4df9-b184-2f8b7327226c",
   "metadata": {
    "tags": []
   },
   "outputs": [
    {
     "data": {
      "text/plain": [
       "[Text(0, 0, '37155'), Text(0, 0, '11687')]"
      ]
     },
     "execution_count": 63,
     "metadata": {},
     "output_type": "execute_result"
    },
    {
     "data": {
      "image/png": "[encoded data removed]",
      "text/plain": [
       "<Figure size 1000x700 with 1 Axes>"
      ]
     },
     "metadata": {},
     "output_type": "display_data"
    }
   ],
   "source": [
    "y_df=pd.DataFrame(y)\n",
    "y_df.columns=['income']\n",
    "\n",
    "\n",
    "ax=sns.countplot(x='income',data=y_df)\n",
    "ax.bar_label(ax.containers[0])"
   ]
  },
  {
   "cell_type": "markdown",
   "id": "79c88d8b-e05a-4b3d-83e0-277bcb7856cd",
   "metadata": {},
   "source": [
    "## <font color=\"white\">1.2 Data Preprocessing</font>"
   ]
  },
  {
   "cell_type": "markdown",
   "id": "639f1005-a99e-4f16-abc9-bf913a000215",
   "metadata": {},
   "source": [
    "### <font color=\"white\">1.2.1 Fixing the data types</font>"
   ]
  },
  {
   "cell_type": "code",
   "execution_count": 64,
   "id": "9e62c484-1e46-4bfc-ab25-e862d641203e",
   "metadata": {
    "tags": []
   },
   "outputs": [],
   "source": [
    "numeric_columns=['age','capitalgain','capitalloss','hoursperweek']\n",
    "\n",
    "for col in df.columns:\n",
    "    if col in numeric_columns:\n",
    "        df[col]=df[col].astype(int)"
   ]
  },
  {
   "cell_type": "markdown",
   "id": "60768802-4c7c-4876-b20e-d2a1f358c741",
   "metadata": {
    "tags": []
   },
   "source": [
    "### <font color=\"white\">1.2.2 Split the data into a train, test, validation with target field converted to a binary classification field</font>"
   ]
  },
  {
   "cell_type": "code",
   "execution_count": 65,
   "id": "ae4b0558-9929-48d1-97a7-4ead4fae679f",
   "metadata": {
    "tags": []
   },
   "outputs": [],
   "source": [
    "X_train,X_test,y_train,y_test=train_test_split(df,y.map({'>50K':1,'<=50K':0}).astype(int),train_size=0.7,random_state=0)"
   ]
  },
  {
   "cell_type": "markdown",
   "id": "0fa4f2db-b6ee-4666-bdde-10eb7d5a3150",
   "metadata": {
    "tags": []
   },
   "source": [
    "### <font color=\"white\">1.2.3 Inspect the Training set</font>"
   ]
  },
  {
   "cell_type": "code",
   "execution_count": 66,
   "id": "9a589fe4-02a9-407d-826a-c9ee7172f424",
   "metadata": {
    "tags": []
   },
   "outputs": [
    {
     "data": {
      "text/plain": [
       "((34189, 14), (14653, 14))"
      ]
     },
     "execution_count": 66,
     "metadata": {},
     "output_type": "execute_result"
    }
   ],
   "source": [
    "X_train.shape,X_test.shape"
   ]
  },
  {
   "cell_type": "markdown",
   "id": "d8352c12-fc50-439f-84ec-164efd95c9d1",
   "metadata": {
    "tags": []
   },
   "source": [
    "## <font color=\"white\">2. Apply AutoML </font>"
   ]
  },
  {
   "cell_type": "markdown",
   "id": "09e0f262-35b3-4b54-b40b-7e034f232f4e",
   "metadata": {},
   "source": [
    "### <font color=\"white\">2.0 Set the Engine </font>"
   ]
  },
  {
   "cell_type": "code",
   "execution_count": 13,
   "id": "32fcb288-7240-4189-a348-93f7d23da5b7",
   "metadata": {
    "tags": []
   },
   "outputs": [],
   "source": [
    "init(engine='local')"
   ]
  },
  {
   "cell_type": "markdown",
   "id": "1bcdd065-c8bb-4402-b097-04b4c57edd45",
   "metadata": {},
   "source": [
    "### <font color=\"white\">2.1 Create an Instance of AutoMLX </font>"
   ]
  },
  {
   "cell_type": "markdown",
   "id": "21fcd11e-57f3-403a-87b7-f9dce62a741b",
   "metadata": {
    "jp-MarkdownHeadingCollapsed": true,
    "tags": []
   },
   "source": [
    "AutoMLX instance automatically finds a tuned model based on a prediction task and a given dataset. It contains the following modules\n",
    "#### <font color='white'>1. <font color=\"pink\">Preprocessing: </font>Data Cleaning, Data Imputation, Feature Engineering and Normalization </font> \n",
    "#### <font color='white'>2. <font color=\"pink\">Algorithm Selection: </font>Identify the right classifiaction algorithm from the following: </font> \n",
    "\n",
    "- AdaBoostClassifier\n",
    "- DecisionTreeClassifier\n",
    "- ExtraTreesClassifier\n",
    "- TorchMLPClassifier\n",
    "- KNeighborsClassifier\n",
    "- LGBMClassifier\n",
    "- LinearSVC\n",
    "- LogisticRegression\n",
    "- RandomForestClassifier\n",
    "- SVC\n",
    "- XGBClassifier\n",
    "- GaussianNB\n",
    "\n",
    "#### <font color='white'>3. <font color=\"pink\">Adaptive Sampling: </font>Selects a subset of the data for the model to be trained on and updates the sampling method based on the performance of the models</font> \n",
    "#### <font color='white'>4. <font color=\"pink\">Feature Selection: </font>Select a subset of the data features based on the previously selected model </font> \n",
    "#### <font color='white'>5. <font color=\"pink\">Hyperparameter Tuning: </font>Finds the right model parameters to maximize score for the given dataset </font> \n",
    "\n",
    "All these modules are in the AutoML pipeline to automate the Machine Learning process with minimal user Input / Interaction\n"
   ]
  },
  {
   "cell_type": "markdown",
   "id": "2d4e7831-7135-4256-9494-bcd55db29b06",
   "metadata": {},
   "source": [
    "### <font color=\"white\">2.2 Train the Model Using AutoML </font>"
   ]
  },
  {
   "cell_type": "markdown",
   "id": "35ed6eb6-686d-4986-91b6-05e2b9058fc7",
   "metadata": {},
   "source": [
    "Initialize the automl pipeline, define the type of task and then fit the training data into the pipeline"
   ]
  },
  {
   "cell_type": "code",
   "execution_count": null,
   "id": "a2e0db9f-4c75-4cf4-932e-f1c4951eb6c5",
   "metadata": {
    "tags": []
   },
   "outputs": [
    {
     "name": "stdout",
     "output_type": "stream",
     "text": [
      "[2025-10-27 05:25:15,703] [automlx.interface] Dataset shape: (16752,14)\n",
      "[2025-10-27 05:25:15,814] [automlx.data_transform] Running preprocessing. Number of features: 15\n",
      "[2025-10-27 05:25:16,288] [automlx.data_transform] Preprocessing completed. Took 0.474 secs\n",
      "[2025-10-27 05:25:16,303] [automlx.process] Running Model Generation\n",
      "[2025-10-27 05:25:16,361] [automlx.process] KNeighborsClassifier is disabled. The KNeighborsClassifier model is only recommended for datasets with less than 10000 samples and 1000 features.\n",
      "[2025-10-27 05:25:16,362] [automlx.process] SVC is disabled. The SVC model is only recommended for datasets with less than 10000 samples and 1000 features.\n",
      "[2025-10-27 05:25:16,365] [automlx.process] Model Generation completed.\n",
      "[2025-10-27 05:25:16,437] [automlx.model_selection] Running Model Selection\n"
     ]
    }
   ],
   "source": [
    "est1=automlx.Pipeline(task='classification')\n",
    "est1.fit(X_train,y_train)"
   ]
  },
  {
   "cell_type": "markdown",
   "id": "c1199453-6f6b-4a72-a2cc-64830aed0472",
   "metadata": {},
   "source": [
    "A model est1 is now automatically generated. Using the model we can do the following:\n",
    "- Call its predict_proba method: Predicts the probability estimates for each class on the testing set X_test\n",
    "- We use the roc_auc_score metric to evaluate the performance of the prediction on the testing set X_test"
   ]
  },
  {
   "cell_type": "code",
   "execution_count": 17,
   "id": "fd479f1f-f825-43d4-927c-002bdcf3e48a",
   "metadata": {
    "tags": []
   },
   "outputs": [],
   "source": [
    "y_proba=est1.predict_proba(X_test)\n",
    "score_default=roc_auc_score(y_test,y_proba[:,1])"
   ]
  },
  {
   "cell_type": "code",
   "execution_count": 18,
   "id": "5b7c6abe-47f5-4d7b-8599-94bf261239dd",
   "metadata": {},
   "outputs": [
    {
     "name": "stdout",
     "output_type": "stream",
     "text": [
      "Score on test data : 0.9140858492615117\n"
     ]
    }
   ],
   "source": [
    "print(f'Score on test data : {score_default}')"
   ]
  },
  {
   "cell_type": "markdown",
   "id": "bd7f16bb-328f-4a3a-a49a-9b59e767a13e",
   "metadata": {},
   "source": [
    "Explain the model"
   ]
  },
  {
   "cell_type": "code",
   "execution_count": null,
   "id": "e66127af-bce4-4559-8518-a003c2809c61",
   "metadata": {
    "tags": []
   },
   "outputs": [],
   "source": [
    "explainer=automlx.MLExplainer(est1,X_train,y_train,task=\"classification\")"
   ]
  },
  {
   "cell_type": "code",
   "execution_count": null,
   "id": "1a9216f3-0454-4402-adf3-f8304300907e",
   "metadata": {
    "tags": []
   },
   "outputs": [],
   "source": [
    "explanation=explainer.explain_model()\n",
    "explanation.to_dataframe()"
   ]
  },
  {
   "cell_type": "markdown",
   "id": "220e3915-42fe-4a87-b218-83f38e201c20",
   "metadata": {},
   "source": [
    "### <font color=\"white\">2.3 AutoML Optimization Process </font>"
   ]
  },
  {
   "cell_type": "markdown",
   "id": "e7d849a6-ff96-4e14-8548-c04284fc8b4f",
   "metadata": {},
   "source": [
    "\n",
    "During the AutoMl process the following information is logged\n",
    "- Information about the training data\n",
    "- Information about the AutoML Pipeline such as \n",
    "    - Most relevant features selected\n",
    "    - Best choice Algorithm\n",
    "    - Selected hyper parameters\n"
   ]
  },
  {
   "cell_type": "code",
   "execution_count": 19,
   "id": "65f7f98f-6f2e-433e-afb1-4f92b891cd1c",
   "metadata": {
    "tags": []
   },
   "outputs": [
    {
     "data": {
      "text/html": [
       "<br><div style='text-align: center; font-weight: bold; font-size: 16px;'>General Summary</div>"
      ],
      "text/plain": [
       "<IPython.core.display.HTML object>"
      ]
     },
     "metadata": {},
     "output_type": "display_data"
    },
    {
     "data": {
      "text/html": [
       "<table border=\"1\" class=\"dataframe\">\n",
       "  <thead>\n",
       "    <tr style=\"text-align: right;\">\n",
       "      <th></th>\n",
       "    </tr>\n",
       "  </thead>\n",
       "  <tbody>\n",
       "    <tr>\n",
       "      <td>(34189, 14)</td>\n",
       "    </tr>\n",
       "    <tr>\n",
       "      <td>None</td>\n",
       "    </tr>\n",
       "    <tr>\n",
       "      <td>KFoldSplit(Shuffle=True, Seed=7, folds=5, stratify by=target)</td>\n",
       "    </tr>\n",
       "    <tr>\n",
       "      <td>neg_log_loss</td>\n",
       "    </tr>\n",
       "    <tr>\n",
       "      <td>XGBClassifier</td>\n",
       "    </tr>\n",
       "    <tr>\n",
       "      <td>{'learning_rate': 0.10242113515453982, 'min_child_weight': 2, 'max_depth': 4, 'reg_alpha': 0.0007113117640155693, 'booster': 'gbtree', 'reg_lambda': 1.001, 'n_estimators': 141, 'use_label_encoder': False}</td>\n",
       "    </tr>\n",
       "    <tr>\n",
       "      <td>25.1.1</td>\n",
       "    </tr>\n",
       "    <tr>\n",
       "      <td>3.11.11 | packaged by conda-forge | (main, Mar  3 2025, 20:43:55) [GCC 13.3.0]</td>\n",
       "    </tr>\n",
       "  </tbody>\n",
       "</table>"
      ],
      "text/plain": [
       "<IPython.core.display.HTML object>"
      ]
     },
     "metadata": {},
     "output_type": "display_data"
    },
    {
     "data": {
      "text/html": [
       "<br><div style='text-align: center; font-weight: bold; font-size: 16px;'>Trials Summary</div>"
      ],
      "text/plain": [
       "<IPython.core.display.HTML object>"
      ]
     },
     "metadata": {},
     "output_type": "display_data"
    },
    {
     "data": {
      "text/html": [
       "<table border=\"1\" class=\"dataframe\">\n",
       "  <thead>\n",
       "    <tr style=\"text-align: right;\">\n",
       "      <th>Step</th>\n",
       "      <th># Samples</th>\n",
       "      <th># Features</th>\n",
       "      <th>Algorithm</th>\n",
       "      <th>Hyperparameters</th>\n",
       "      <th>Score (neg_log_loss)</th>\n",
       "      <th>All Metrics</th>\n",
       "      <th>Runtime (Seconds)</th>\n",
       "      <th>Memory Usage (GB)</th>\n",
       "      <th>Finished</th>\n",
       "    </tr>\n",
       "  </thead>\n",
       "  <tbody>\n",
       "    <tr>\n",
       "      <td>Model Selection</td>\n",
       "      <td>{1: 4000, 2: 4000, 3: 4000, 4: 4000, 5: 4000}</td>\n",
       "      <td>15</td>\n",
       "      <td>XGBClassifier</td>\n",
       "      <td>{'learning_rate': 0.1, 'min_child_weight': 1, 'max_depth': 3, 'reg_alpha': 0, 'booster': 'gbtree', 'reg_lambda': 1, 'n_estimators': 100, 'use_label_encoder': False}</td>\n",
       "      <td>-0.3813</td>\n",
       "      <td>{'neg_log_loss': -0.38129734602336923}</td>\n",
       "      <td>1.9454</td>\n",
       "      <td>0.2919</td>\n",
       "      <td>Sun Oct 26 05:46:19 2025</td>\n",
       "    </tr>\n",
       "    <tr>\n",
       "      <td>Model Selection</td>\n",
       "      <td>{1: 4000, 2: 4000, 3: 4000, 4: 4000, 5: 4000}</td>\n",
       "      <td>15</td>\n",
       "      <td>CatBoostClassifier</td>\n",
       "      <td>{'iterations': 235, 'learning_rate': 0.787168, 'leaf_estimation_method': 'Newton', 'colsample_bylevel': 0.096865, 'depth': 3, 'l2_leaf_reg': 2.567326, 'feature_border_type': 'UniformAndQuantiles', 'model_size_reg': 3.85132, 'leaf_estimation_iterations': 1, 'boosting_type': 'Plain', 'bootstrap_type': 'MVS', 'auto_class_weights': 'SqrtBalanced', 'allow_writing_files': False, 'allow_const_label': True}</td>\n",
       "      <td>-0.3881</td>\n",
       "      <td>{'neg_log_loss': -0.38808832474759775}</td>\n",
       "      <td>3.9578</td>\n",
       "      <td>0.3219</td>\n",
       "      <td>Sun Oct 26 05:44:26 2025</td>\n",
       "    </tr>\n",
       "    <tr>\n",
       "      <td>Model Selection</td>\n",
       "      <td>{1: 4000, 2: 4000, 3: 4000, 4: 4000, 5: 4000}</td>\n",
       "      <td>15</td>\n",
       "      <td>LGBMClassifier</td>\n",
       "      <td>{'num_leaves': 31, 'boosting_type': 'gbdt', 'learning_rate': 0.1, 'min_child_weight': 0.001, 'max_depth': -1, 'reg_alpha': 0, 'reg_lambda': 1, 'n_estimators': 100, 'class_weight': 'balanced'}</td>\n",
       "      <td>-0.3898</td>\n",
       "      <td>{'neg_log_loss': -0.3898051926295403}</td>\n",
       "      <td>15.8840</td>\n",
       "      <td>0.2817</td>\n",
       "      <td>Sun Oct 26 05:44:44 2025</td>\n",
       "    </tr>\n",
       "    <tr>\n",
       "      <td>Model Selection</td>\n",
       "      <td>{1: 4000, 2: 4000, 3: 4000, 4: 4000, 5: 4000}</td>\n",
       "      <td>15</td>\n",
       "      <td>LogisticRegressionClassifier</td>\n",
       "      <td>{'C': 1.0, 'solver': 'liblinear', 'class_weight': 'balanced'}</td>\n",
       "      <td>-0.3908</td>\n",
       "      <td>{'neg_log_loss': -0.3907935186356912}</td>\n",
       "      <td>0.4531</td>\n",
       "      <td>0.2602</td>\n",
       "      <td>Sun Oct 26 05:46:20 2025</td>\n",
       "    </tr>\n",
       "    <tr>\n",
       "      <td>Model Selection</td>\n",
       "      <td>{1: 4000, 2: 4000, 3: 4000, 4: 4000, 5: 4000}</td>\n",
       "      <td>15</td>\n",
       "      <td>RandomForestClassifier</td>\n",
       "      <td>{'n_estimators': 100, 'min_samples_split': 0.00125, 'min_samples_leaf': 0.000625, 'max_features': 0.777777778, 'class_weight': 'balanced'}</td>\n",
       "      <td>-0.4093</td>\n",
       "      <td>{'neg_log_loss': -0.40930045927988684}</td>\n",
       "      <td>6.7410</td>\n",
       "      <td>0.2708</td>\n",
       "      <td>Sun Oct 26 05:44:51 2025</td>\n",
       "    </tr>\n",
       "    <tr>\n",
       "      <td>Model Selection</td>\n",
       "      <td>{1: 4000, 2: 4000, 3: 4000, 4: 4000, 5: 4000}</td>\n",
       "      <td>15</td>\n",
       "      <td>ExtraTreesClassifier</td>\n",
       "      <td>{'n_estimators': 100, 'min_samples_split': 0.00125, 'min_samples_leaf': 0.000625, 'max_features': 0.777777778, 'class_weight': 'balanced', 'criterion': 'gini'}</td>\n",
       "      <td>-0.4196</td>\n",
       "      <td>{'neg_log_loss': -0.4196315514455088}</td>\n",
       "      <td>4.6622</td>\n",
       "      <td>0.2714</td>\n",
       "      <td>Sun Oct 26 05:44:32 2025</td>\n",
       "    </tr>\n",
       "    <tr>\n",
       "      <td>Model Selection</td>\n",
       "      <td>{1: 4000, 2: 4000, 3: 4000, 4: 4000, 5: 4000}</td>\n",
       "      <td>15</td>\n",
       "      <td>TorchMLPClassifier</td>\n",
       "      <td>{'optimizer_class': 'Adam', 'shuffle_dataset_each_epoch': True, 'optimizer_params': {}, 'criterion_class': None, 'criterion_params': {}, 'scheduler_class': None, 'scheduler_params': {}, 'batch_size': 128, 'lr': 0.001, 'epochs': 18, 'input_transform': 'auto', 'tensorboard_dir': None, 'use_tqdm': None, 'prediction_batch_size': 128, 'prediction_input_transform': 'auto', 'shuffling_buffer_size': None, 'depth': 4, 'num_logits': 1000, 'div_factor': 2, 'activation': 'ReLU', 'dropout': 0.1}</td>\n",
       "      <td>-0.8208</td>\n",
       "      <td>{'neg_log_loss': -0.820796843596572}</td>\n",
       "      <td>89.4686</td>\n",
       "      <td>0.6650</td>\n",
       "      <td>Sun Oct 26 05:46:17 2025</td>\n",
       "    </tr>\n",
       "    <tr>\n",
       "      <td>Model Selection</td>\n",
       "      <td>{1: 4000, 2: 4000, 3: 4000, 4: 4000, 5: 4000}</td>\n",
       "      <td>15</td>\n",
       "      <td>GaussianNB</td>\n",
       "      <td>{}</td>\n",
       "      <td>-1.0622</td>\n",
       "      <td>{'neg_log_loss': -1.0622002049203993}</td>\n",
       "      <td>0.4447</td>\n",
       "      <td>0.2593</td>\n",
       "      <td>Sun Oct 26 05:44:33 2025</td>\n",
       "    </tr>\n",
       "    <tr>\n",
       "      <td>Model Selection</td>\n",
       "      <td>{1: 4000, 2: 4000, 3: 4000, 4: 4000, 5: 4000}</td>\n",
       "      <td>15</td>\n",
       "      <td>DecisionTreeClassifier</td>\n",
       "      <td>{'min_samples_split': 0.00125, 'min_samples_leaf': 0.000625, 'max_features': 1.0, 'class_weight': None}</td>\n",
       "      <td>-4.6323</td>\n",
       "      <td>{'neg_log_loss': -4.632288461805368}</td>\n",
       "      <td>0.6227</td>\n",
       "      <td>0.2661</td>\n",
       "      <td>Sun Oct 26 05:44:27 2025</td>\n",
       "    </tr>\n",
       "    <tr>\n",
       "      <td>Adaptive Sampling</td>\n",
       "      <td>{1: 6730, 2: 6730, 3: 6730, 4: 6730, 5: 6730}</td>\n",
       "      <td>15</td>\n",
       "      <td>AdaptiveSamplingStage_XGBClassifier</td>\n",
       "      <td>{'learning_rate': 0.1, 'min_child_weight': 1, 'max_depth': 3, 'reg_alpha': 0, 'booster': 'gbtree', 'reg_lambda': 1, 'n_estimators': 100, 'use_label_encoder': False}</td>\n",
       "      <td>-0.3782</td>\n",
       "      <td>{'neg_log_loss': -0.37817011702109865}</td>\n",
       "      <td>3.3871</td>\n",
       "      <td>0.2985</td>\n",
       "      <td>Sun Oct 26 05:46:29 2025</td>\n",
       "    </tr>\n",
       "    <tr>\n",
       "      <td>...</td>\n",
       "      <td>...</td>\n",
       "      <td>...</td>\n",
       "      <td>...</td>\n",
       "      <td>...</td>\n",
       "      <td>...</td>\n",
       "      <td>...</td>\n",
       "      <td>...</td>\n",
       "      <td>...</td>\n",
       "      <td>...</td>\n",
       "    </tr>\n",
       "    <tr>\n",
       "      <td>Model Tuning</td>\n",
       "      <td>{1: 12222, 2: 12222, 3: 12222, 4: 12223, 5: 12223}</td>\n",
       "      <td>15</td>\n",
       "      <td>XGBClassifier</td>\n",
       "      <td>{'learning_rate': 0.0001, 'min_child_weight': 0, 'max_depth': 2, 'reg_alpha': 0.0007513117640155693, 'booster': 'gbtree', 'reg_lambda': 0, 'n_estimators': 50, 'use_label_encoder': False}</td>\n",
       "      <td>-0.6912</td>\n",
       "      <td>{'neg_log_loss': -0.6911964137047958}</td>\n",
       "      <td>2.2594</td>\n",
       "      <td>0.3110</td>\n",
       "      <td>Sun Oct 26 05:55:36 2025</td>\n",
       "    </tr>\n",
       "    <tr>\n",
       "      <td>Model Tuning</td>\n",
       "      <td>{1: 12222, 2: 12222, 3: 12222, 4: 12223, 5: 12223}</td>\n",
       "      <td>15</td>\n",
       "      <td>XGBClassifier</td>\n",
       "      <td>{'learning_rate': 0.0001, 'min_child_weight': 0, 'max_depth': 2, 'reg_alpha': 0, 'booster': 'gbtree', 'reg_lambda': 0.01778279410038923, 'n_estimators': 50, 'use_label_encoder': False}</td>\n",
       "      <td>-0.6912</td>\n",
       "      <td>{'neg_log_loss': -0.6911964480070907}</td>\n",
       "      <td>2.3318</td>\n",
       "      <td>0.3112</td>\n",
       "      <td>Sun Oct 26 05:55:44 2025</td>\n",
       "    </tr>\n",
       "    <tr>\n",
       "      <td>Model Tuning</td>\n",
       "      <td>{1: 12222, 2: 12222, 3: 12222, 4: 12223, 5: 12223}</td>\n",
       "      <td>15</td>\n",
       "      <td>XGBClassifier</td>\n",
       "      <td>{'learning_rate': 0.0001, 'min_child_weight': 0, 'max_depth': 2, 'reg_alpha': 0, 'booster': 'gbtree', 'reg_lambda': 0.01878279410038923, 'n_estimators': 50, 'use_label_encoder': False}</td>\n",
       "      <td>-0.6912</td>\n",
       "      <td>{'neg_log_loss': -0.6911964560751593}</td>\n",
       "      <td>3.2068</td>\n",
       "      <td>0.3115</td>\n",
       "      <td>Sun Oct 26 05:55:47 2025</td>\n",
       "    </tr>\n",
       "    <tr>\n",
       "      <td>Model Tuning</td>\n",
       "      <td>{1: 12222, 2: 12222, 3: 12222, 4: 12223, 5: 12223}</td>\n",
       "      <td>15</td>\n",
       "      <td>XGBClassifier</td>\n",
       "      <td>{'learning_rate': 0.0001, 'min_child_weight': 0, 'max_depth': 2, 'reg_alpha': 0.2249365300761397, 'booster': 'gbtree', 'reg_lambda': 0, 'n_estimators': 50, 'use_label_encoder': False}</td>\n",
       "      <td>-0.6912</td>\n",
       "      <td>{'neg_log_loss': -0.6911968446197632}</td>\n",
       "      <td>2.3531</td>\n",
       "      <td>0.3111</td>\n",
       "      <td>Sun Oct 26 05:55:39 2025</td>\n",
       "    </tr>\n",
       "    <tr>\n",
       "      <td>Model Tuning</td>\n",
       "      <td>{1: 12222, 2: 12222, 3: 12222, 4: 12223, 5: 12223}</td>\n",
       "      <td>15</td>\n",
       "      <td>XGBClassifier</td>\n",
       "      <td>{'learning_rate': 0.0001, 'min_child_weight': 0, 'max_depth': 2, 'reg_alpha': 0.2249765300761397, 'booster': 'gbtree', 'reg_lambda': 0, 'n_estimators': 50, 'use_label_encoder': False}</td>\n",
       "      <td>-0.6912</td>\n",
       "      <td>{'neg_log_loss': -0.6911968446197632}</td>\n",
       "      <td>2.3040</td>\n",
       "      <td>0.3113</td>\n",
       "      <td>Sun Oct 26 05:55:41 2025</td>\n",
       "    </tr>\n",
       "    <tr>\n",
       "      <td>Model Tuning</td>\n",
       "      <td>{1: 12222, 2: 12222, 3: 12222, 4: 12223, 5: 12223}</td>\n",
       "      <td>15</td>\n",
       "      <td>XGBClassifier</td>\n",
       "      <td>{'learning_rate': 0.0001, 'min_child_weight': 0, 'max_depth': 2, 'reg_alpha': 0, 'booster': 'gbtree', 'reg_lambda': 1, 'n_estimators': 50, 'use_label_encoder': False}</td>\n",
       "      <td>-0.6912</td>\n",
       "      <td>{'neg_log_loss': -0.6911999162246485}</td>\n",
       "      <td>2.0955</td>\n",
       "      <td>0.3113</td>\n",
       "      <td>Sun Oct 26 05:55:50 2025</td>\n",
       "    </tr>\n",
       "    <tr>\n",
       "      <td>Model Tuning</td>\n",
       "      <td>{1: 12222, 2: 12222, 3: 12222, 4: 12223, 5: 12223}</td>\n",
       "      <td>15</td>\n",
       "      <td>XGBClassifier</td>\n",
       "      <td>{'learning_rate': 0.0001, 'min_child_weight': 0, 'max_depth': 2, 'reg_alpha': 0, 'booster': 'gbtree', 'reg_lambda': 1.001, 'n_estimators': 50, 'use_label_encoder': False}</td>\n",
       "      <td>-0.6912</td>\n",
       "      <td>{'neg_log_loss': -0.6911999174202923}</td>\n",
       "      <td>2.5806</td>\n",
       "      <td>0.3119</td>\n",
       "      <td>Sun Oct 26 05:55:52 2025</td>\n",
       "    </tr>\n",
       "    <tr>\n",
       "      <td>Model Tuning</td>\n",
       "      <td>{1: 12222, 2: 12222, 3: 12222, 4: 12223, 5: 12223}</td>\n",
       "      <td>15</td>\n",
       "      <td>XGBClassifier</td>\n",
       "      <td>{'learning_rate': 0.0001, 'min_child_weight': 0, 'max_depth': 2, 'reg_alpha': 0, 'booster': 'gbtree', 'reg_lambda': 5.623413251903491, 'n_estimators': 50, 'use_label_encoder': False}</td>\n",
       "      <td>-0.6912</td>\n",
       "      <td>{'neg_log_loss': -0.6912154271501312}</td>\n",
       "      <td>2.3976</td>\n",
       "      <td>0.3118</td>\n",
       "      <td>Sun Oct 26 05:55:55 2025</td>\n",
       "    </tr>\n",
       "    <tr>\n",
       "      <td>Model Tuning</td>\n",
       "      <td>{1: 12222, 2: 12222, 3: 12222, 4: 12223, 5: 12223}</td>\n",
       "      <td>15</td>\n",
       "      <td>XGBClassifier</td>\n",
       "      <td>{'learning_rate': 0.0001, 'min_child_weight': 0, 'max_depth': 2, 'reg_alpha': 0, 'booster': 'gbtree', 'reg_lambda': 5.6244132519034915, 'n_estimators': 50, 'use_label_encoder': False}</td>\n",
       "      <td>-0.6912</td>\n",
       "      <td>{'neg_log_loss': -0.691215428004673}</td>\n",
       "      <td>2.1273</td>\n",
       "      <td>0.3119</td>\n",
       "      <td>Sun Oct 26 05:55:58 2025</td>\n",
       "    </tr>\n",
       "    <tr>\n",
       "      <td>Model Tuning</td>\n",
       "      <td>None</td>\n",
       "      <td>0</td>\n",
       "      <td>XGBClassifier</td>\n",
       "      <td>None</td>\n",
       "      <td>-inf</td>\n",
       "      <td>None</td>\n",
       "      <td>4.9766</td>\n",
       "      <td>0.3202</td>\n",
       "      <td>-1</td>\n",
       "    </tr>\n",
       "  </tbody>\n",
       "</table>"
      ],
      "text/plain": [
       "<IPython.core.display.HTML object>"
      ]
     },
     "metadata": {},
     "output_type": "display_data"
    }
   ],
   "source": [
    "est1.print_summary()"
   ]
  },
  {
   "cell_type": "markdown",
   "id": "eabb4f88-82cf-414f-bf3b-8e2f9160ee9c",
   "metadata": {},
   "source": [
    "#### <font color=\"white\">2.3.1 Algorithm Selection </font>"
   ]
  },
  {
   "cell_type": "markdown",
   "id": "632371a6-2860-496e-8990-d504da6d5b34",
   "metadata": {},
   "source": [
    "We can plot and visualize the results of the AutoML Algorithm Selection. Each Algorithm selection trial is a tuple containing\n",
    "- Algorithm\n",
    "- Number of Samples\n",
    "- Number of Features\n",
    "- Mean Cross Validation Score\n",
    "- Hyperparameters\n",
    "- All Cross Validation scores\n",
    "- Total Cross Validation Times\n",
    "- Memory Usage in GB"
   ]
  },
  {
   "cell_type": "code",
   "execution_count": 33,
   "id": "b89bf117-9298-4b15-88cc-24782ff04066",
   "metadata": {
    "tags": []
   },
   "outputs": [
    {
     "data": {
      "image/png": "[encoded data removed]",
      "text/plain": [
       "<Figure size 1000x700 with 1 Axes>"
      ]
     },
     "metadata": {},
     "output_type": "display_data"
    }
   ],
   "source": [
    "trials = est1.completed_trials_summary_[\n",
    "        est1.completed_trials_summary_[\"Step\"].str.contains(\"Model Selection\")\n",
    "    ]\n",
    "\n",
    "\n",
    "name_of_score_column = f\"Score ({est1._inferred_score_metric[0].name})\"\n",
    "trials.replace([np.inf, -np.inf], np.nan, inplace=True)\n",
    "trials.dropna(subset=[name_of_score_column], inplace=True)\n",
    "scores = trials[name_of_score_column].tolist()\n",
    "models = trials[\"Algorithm\"].tolist()\n",
    "\n",
    "y_margin=0.10*(max(scores)-min(scores))\n",
    "s=pd.Series(scores,index=models).sort_values(ascending=False)\n",
    "\n",
    "colors = []\n",
    "for f in s.keys():\n",
    "    if f.strip() == est1.selected_model_.strip():\n",
    "        colors.append(\"orange\")\n",
    "    elif s[f] >= s.mean():\n",
    "        colors.append(\"teal\")\n",
    "    else:\n",
    "        colors.append(\"turquoise\")\n",
    "\n",
    "\n",
    "fig, ax = plt.subplots(1)\n",
    "ax.set_title(\"Algorithm Selection Trials\")\n",
    "ax.set_ylim(min(scores) - y_margin, max(scores) + y_margin)\n",
    "ax.set_ylabel(\"Hit Rate\")\n",
    "s.plot.bar(ax=ax, color=colors, edgecolor=\"black\")\n",
    "ax.axhline(y=s.mean(), color=\"black\", linewidth=0.5)\n",
    "plt.show()"
   ]
  },
  {
   "cell_type": "markdown",
   "id": "6fb3d9d9-4bf8-4b31-b185-dcd97bfb6c9f",
   "metadata": {},
   "source": [
    "#### <font color=\"white\">2.3.2 Adaptive Sampling </font>"
   ]
  },
  {
   "cell_type": "code",
   "execution_count": 36,
   "id": "28452593-e883-4557-a5de-1c0ba037e5d7",
   "metadata": {
    "tags": []
   },
   "outputs": [
    {
     "ename": "TypeError",
     "evalue": "unsupported operand type(s) for -: 'str' and 'str'",
     "output_type": "error",
     "traceback": [
      "\u001b[0;31m---------------------------------------------------------------------------\u001b[0m",
      "\u001b[0;31mTypeError\u001b[0m                                 Traceback (most recent call last)",
      "Cell \u001b[0;32mIn[36], line 11\u001b[0m\n\u001b[1;32m      8\u001b[0m scores\u001b[38;5;241m=\u001b[39m[x[\u001b[38;5;241m3\u001b[39m] \u001b[38;5;28;01mfor\u001b[39;00m x \u001b[38;5;129;01min\u001b[39;00m trials]\n\u001b[1;32m      9\u001b[0m n_samples\u001b[38;5;241m=\u001b[39m[x[\u001b[38;5;241m1\u001b[39m] \u001b[38;5;28;01mfor\u001b[39;00m x \u001b[38;5;129;01min\u001b[39;00m trials]\n\u001b[0;32m---> 11\u001b[0m y_margin\u001b[38;5;241m=\u001b[39m\u001b[38;5;241m0.10\u001b[39m\u001b[38;5;241m*\u001b[39m(\u001b[38;5;28;43mmax\u001b[39;49m\u001b[43m(\u001b[49m\u001b[43mscores\u001b[49m\u001b[43m)\u001b[49m\u001b[38;5;241;43m-\u001b[39;49m\u001b[38;5;28;43mmin\u001b[39;49m\u001b[43m(\u001b[49m\u001b[43mscores\u001b[49m\u001b[43m)\u001b[49m)\n\u001b[1;32m     14\u001b[0m fig,ax\u001b[38;5;241m=\u001b[39mplt\u001b[38;5;241m.\u001b[39msubplots(\u001b[38;5;241m1\u001b[39m)\n\u001b[1;32m     15\u001b[0m ax\u001b[38;5;241m.\u001b[39mset_title(\u001b[38;5;124m'\u001b[39m\u001b[38;5;124mAdaptive Sampling(\u001b[39m\u001b[38;5;132;01m{}\u001b[39;00m\u001b[38;5;124m)\u001b[39m\u001b[38;5;124m'\u001b[39m\u001b[38;5;241m.\u001b[39mformat(trials[\u001b[38;5;241m0\u001b[39m][\u001b[38;5;241m0\u001b[39m]))\n",
      "\u001b[0;31mTypeError\u001b[0m: unsupported operand type(s) for -: 'str' and 'str'"
     ]
    }
   ],
   "source": [
    "trials = est1.completed_trials_summary_[\n",
    "        est1.completed_trials_summary_[\"Step\"].str.contains(\"Adaptive Sampling\")\n",
    "    ]\n",
    "\n",
    "trials.replace([np.inf, -np.inf], np.nan, inplace=True)\n",
    "trials.dropna(subset=[name_of_score_column], inplace=True)\n",
    "\n",
    "scores=[x[3] for x in trials]\n",
    "n_samples=[x[1] for x in trials]\n",
    "\n",
    "y_margin=0.10*(max(scores)-min(scores))\n",
    "\n",
    "\n",
    "fig,ax=plt.subplots(1)\n",
    "ax.set_title('Adaptive Sampling({})'.format(trials[0][0]))\n",
    "ax.set_xlabel('Dataset sample size')\n",
    "ax.set_ylabel(est1._inferred_score_metric[0])\n",
    "ax.grid(color='g',linestyle='-',linewidth=0.1)\n",
    "ax.set_ylim(min(scores)-y_margin,max(scores)+y_margin)\n",
    "ax.plot(n_samples,scores,'k:',markers='s',color='teal',markersize=3)\n",
    "plt.show()"
   ]
  },
  {
   "cell_type": "markdown",
   "id": "7b690b6f-2bb8-427b-9a75-a0a493a437a6",
   "metadata": {},
   "source": [
    "#### <font color=\"white\">2.3.3 Feature Selection </font>"
   ]
  },
  {
   "cell_type": "code",
   "execution_count": 48,
   "id": "a4b33af8-ff2b-4bd6-a6ae-08fc9ae55a9a",
   "metadata": {
    "tags": []
   },
   "outputs": [
    {
     "name": "stdout",
     "output_type": "stream",
     "text": [
      "features selected:['age', 'capitalgain', 'capitalloss', 'education', 'education-num', 'fnlwgt', 'hoursperweek', 'marital-status', 'native-country', 'occupation', 'race', 'relationship', 'sex_1', 'sex_2', 'workclass']\n"
     ]
    },
    {
     "data": {
      "text/html": [
       "<div>\n",
       "<style scoped>\n",
       "    .dataframe tbody tr th:only-of-type {\n",
       "        vertical-align: middle;\n",
       "    }\n",
       "\n",
       "    .dataframe tbody tr th {\n",
       "        vertical-align: top;\n",
       "    }\n",
       "\n",
       "    .dataframe thead th {\n",
       "        text-align: right;\n",
       "    }\n",
       "</style>\n",
       "<table border=\"1\" class=\"dataframe\">\n",
       "  <thead>\n",
       "    <tr style=\"text-align: right;\">\n",
       "      <th></th>\n",
       "      <th>Step</th>\n",
       "      <th># Samples</th>\n",
       "      <th># Features</th>\n",
       "      <th>Algorithm</th>\n",
       "      <th>Hyperparameters</th>\n",
       "      <th>Score (neg_log_loss)</th>\n",
       "      <th>All Metrics</th>\n",
       "      <th>Runtime (Seconds)</th>\n",
       "      <th>Memory Usage (GB)</th>\n",
       "      <th>Finished</th>\n",
       "    </tr>\n",
       "  </thead>\n",
       "  <tbody>\n",
       "    <tr>\n",
       "      <th>0</th>\n",
       "      <td>Model Selection</td>\n",
       "      <td>{1: 4000, 2: 4000, 3: 4000, 4: 4000, 5: 4000}</td>\n",
       "      <td>15</td>\n",
       "      <td>XGBClassifier</td>\n",
       "      <td>{'learning_rate': 0.1, 'min_child_weight': 1, ...</td>\n",
       "      <td>-0.381297</td>\n",
       "      <td>{'neg_log_loss': -0.38129734602336923}</td>\n",
       "      <td>1.945430</td>\n",
       "      <td>0.291916</td>\n",
       "      <td>Sun Oct 26 05:46:19 2025</td>\n",
       "    </tr>\n",
       "    <tr>\n",
       "      <th>1</th>\n",
       "      <td>Model Selection</td>\n",
       "      <td>{1: 4000, 2: 4000, 3: 4000, 4: 4000, 5: 4000}</td>\n",
       "      <td>15</td>\n",
       "      <td>CatBoostClassifier</td>\n",
       "      <td>{'iterations': 235, 'learning_rate': 0.787168,...</td>\n",
       "      <td>-0.388088</td>\n",
       "      <td>{'neg_log_loss': -0.38808832474759775}</td>\n",
       "      <td>3.957793</td>\n",
       "      <td>0.321918</td>\n",
       "      <td>Sun Oct 26 05:44:26 2025</td>\n",
       "    </tr>\n",
       "    <tr>\n",
       "      <th>2</th>\n",
       "      <td>Model Selection</td>\n",
       "      <td>{1: 4000, 2: 4000, 3: 4000, 4: 4000, 5: 4000}</td>\n",
       "      <td>15</td>\n",
       "      <td>LGBMClassifier</td>\n",
       "      <td>{'num_leaves': 31, 'boosting_type': 'gbdt', 'l...</td>\n",
       "      <td>-0.389805</td>\n",
       "      <td>{'neg_log_loss': -0.3898051926295403}</td>\n",
       "      <td>15.884042</td>\n",
       "      <td>0.281700</td>\n",
       "      <td>Sun Oct 26 05:44:44 2025</td>\n",
       "    </tr>\n",
       "    <tr>\n",
       "      <th>3</th>\n",
       "      <td>Model Selection</td>\n",
       "      <td>{1: 4000, 2: 4000, 3: 4000, 4: 4000, 5: 4000}</td>\n",
       "      <td>15</td>\n",
       "      <td>LogisticRegressionClassifier</td>\n",
       "      <td>{'C': 1.0, 'solver': 'liblinear', 'class_weigh...</td>\n",
       "      <td>-0.390794</td>\n",
       "      <td>{'neg_log_loss': -0.3907935186356912}</td>\n",
       "      <td>0.453079</td>\n",
       "      <td>0.260246</td>\n",
       "      <td>Sun Oct 26 05:46:20 2025</td>\n",
       "    </tr>\n",
       "    <tr>\n",
       "      <th>4</th>\n",
       "      <td>Model Selection</td>\n",
       "      <td>{1: 4000, 2: 4000, 3: 4000, 4: 4000, 5: 4000}</td>\n",
       "      <td>15</td>\n",
       "      <td>RandomForestClassifier</td>\n",
       "      <td>{'n_estimators': 100, 'min_samples_split': 0.0...</td>\n",
       "      <td>-0.4093</td>\n",
       "      <td>{'neg_log_loss': -0.40930045927988684}</td>\n",
       "      <td>6.741041</td>\n",
       "      <td>0.270805</td>\n",
       "      <td>Sun Oct 26 05:44:51 2025</td>\n",
       "    </tr>\n",
       "    <tr>\n",
       "      <th>...</th>\n",
       "      <td>...</td>\n",
       "      <td>...</td>\n",
       "      <td>...</td>\n",
       "      <td>...</td>\n",
       "      <td>...</td>\n",
       "      <td>...</td>\n",
       "      <td>...</td>\n",
       "      <td>...</td>\n",
       "      <td>...</td>\n",
       "      <td>...</td>\n",
       "    </tr>\n",
       "    <tr>\n",
       "      <th>157</th>\n",
       "      <td>Model Tuning</td>\n",
       "      <td>{1: 12222, 2: 12222, 3: 12222, 4: 12223, 5: 12...</td>\n",
       "      <td>15</td>\n",
       "      <td>XGBClassifier</td>\n",
       "      <td>{'learning_rate': 0.0001, 'min_child_weight': ...</td>\n",
       "      <td>-0.6912</td>\n",
       "      <td>{'neg_log_loss': -0.6911999162246485}</td>\n",
       "      <td>2.095547</td>\n",
       "      <td>0.311302</td>\n",
       "      <td>Sun Oct 26 05:55:50 2025</td>\n",
       "    </tr>\n",
       "    <tr>\n",
       "      <th>158</th>\n",
       "      <td>Model Tuning</td>\n",
       "      <td>{1: 12222, 2: 12222, 3: 12222, 4: 12223, 5: 12...</td>\n",
       "      <td>15</td>\n",
       "      <td>XGBClassifier</td>\n",
       "      <td>{'learning_rate': 0.0001, 'min_child_weight': ...</td>\n",
       "      <td>-0.6912</td>\n",
       "      <td>{'neg_log_loss': -0.6911999174202923}</td>\n",
       "      <td>2.580630</td>\n",
       "      <td>0.311913</td>\n",
       "      <td>Sun Oct 26 05:55:52 2025</td>\n",
       "    </tr>\n",
       "    <tr>\n",
       "      <th>159</th>\n",
       "      <td>Model Tuning</td>\n",
       "      <td>{1: 12222, 2: 12222, 3: 12222, 4: 12223, 5: 12...</td>\n",
       "      <td>15</td>\n",
       "      <td>XGBClassifier</td>\n",
       "      <td>{'learning_rate': 0.0001, 'min_child_weight': ...</td>\n",
       "      <td>-0.691215</td>\n",
       "      <td>{'neg_log_loss': -0.6912154271501312}</td>\n",
       "      <td>2.397571</td>\n",
       "      <td>0.311813</td>\n",
       "      <td>Sun Oct 26 05:55:55 2025</td>\n",
       "    </tr>\n",
       "    <tr>\n",
       "      <th>160</th>\n",
       "      <td>Model Tuning</td>\n",
       "      <td>{1: 12222, 2: 12222, 3: 12222, 4: 12223, 5: 12...</td>\n",
       "      <td>15</td>\n",
       "      <td>XGBClassifier</td>\n",
       "      <td>{'learning_rate': 0.0001, 'min_child_weight': ...</td>\n",
       "      <td>-0.691215</td>\n",
       "      <td>{'neg_log_loss': -0.691215428004673}</td>\n",
       "      <td>2.127307</td>\n",
       "      <td>0.311893</td>\n",
       "      <td>Sun Oct 26 05:55:58 2025</td>\n",
       "    </tr>\n",
       "    <tr>\n",
       "      <th>161</th>\n",
       "      <td>Model Tuning</td>\n",
       "      <td>None</td>\n",
       "      <td>0</td>\n",
       "      <td>XGBClassifier</td>\n",
       "      <td>None</td>\n",
       "      <td>-inf</td>\n",
       "      <td>None</td>\n",
       "      <td>4.976560</td>\n",
       "      <td>0.320225</td>\n",
       "      <td>-1</td>\n",
       "    </tr>\n",
       "  </tbody>\n",
       "</table>\n",
       "<p>162 rows × 10 columns</p>\n",
       "</div>"
      ],
      "text/plain": [
       "                Step                                          # Samples  \\\n",
       "0    Model Selection      {1: 4000, 2: 4000, 3: 4000, 4: 4000, 5: 4000}   \n",
       "1    Model Selection      {1: 4000, 2: 4000, 3: 4000, 4: 4000, 5: 4000}   \n",
       "2    Model Selection      {1: 4000, 2: 4000, 3: 4000, 4: 4000, 5: 4000}   \n",
       "3    Model Selection      {1: 4000, 2: 4000, 3: 4000, 4: 4000, 5: 4000}   \n",
       "4    Model Selection      {1: 4000, 2: 4000, 3: 4000, 4: 4000, 5: 4000}   \n",
       "..               ...                                                ...   \n",
       "157     Model Tuning  {1: 12222, 2: 12222, 3: 12222, 4: 12223, 5: 12...   \n",
       "158     Model Tuning  {1: 12222, 2: 12222, 3: 12222, 4: 12223, 5: 12...   \n",
       "159     Model Tuning  {1: 12222, 2: 12222, 3: 12222, 4: 12223, 5: 12...   \n",
       "160     Model Tuning  {1: 12222, 2: 12222, 3: 12222, 4: 12223, 5: 12...   \n",
       "161     Model Tuning                                               None   \n",
       "\n",
       "     # Features                     Algorithm  \\\n",
       "0            15                 XGBClassifier   \n",
       "1            15            CatBoostClassifier   \n",
       "2            15                LGBMClassifier   \n",
       "3            15  LogisticRegressionClassifier   \n",
       "4            15        RandomForestClassifier   \n",
       "..          ...                           ...   \n",
       "157          15                 XGBClassifier   \n",
       "158          15                 XGBClassifier   \n",
       "159          15                 XGBClassifier   \n",
       "160          15                 XGBClassifier   \n",
       "161           0                 XGBClassifier   \n",
       "\n",
       "                                       Hyperparameters Score (neg_log_loss)  \\\n",
       "0    {'learning_rate': 0.1, 'min_child_weight': 1, ...            -0.381297   \n",
       "1    {'iterations': 235, 'learning_rate': 0.787168,...            -0.388088   \n",
       "2    {'num_leaves': 31, 'boosting_type': 'gbdt', 'l...            -0.389805   \n",
       "3    {'C': 1.0, 'solver': 'liblinear', 'class_weigh...            -0.390794   \n",
       "4    {'n_estimators': 100, 'min_samples_split': 0.0...              -0.4093   \n",
       "..                                                 ...                  ...   \n",
       "157  {'learning_rate': 0.0001, 'min_child_weight': ...              -0.6912   \n",
       "158  {'learning_rate': 0.0001, 'min_child_weight': ...              -0.6912   \n",
       "159  {'learning_rate': 0.0001, 'min_child_weight': ...            -0.691215   \n",
       "160  {'learning_rate': 0.0001, 'min_child_weight': ...            -0.691215   \n",
       "161                                               None                 -inf   \n",
       "\n",
       "                                All Metrics  Runtime (Seconds)  \\\n",
       "0    {'neg_log_loss': -0.38129734602336923}           1.945430   \n",
       "1    {'neg_log_loss': -0.38808832474759775}           3.957793   \n",
       "2     {'neg_log_loss': -0.3898051926295403}          15.884042   \n",
       "3     {'neg_log_loss': -0.3907935186356912}           0.453079   \n",
       "4    {'neg_log_loss': -0.40930045927988684}           6.741041   \n",
       "..                                      ...                ...   \n",
       "157   {'neg_log_loss': -0.6911999162246485}           2.095547   \n",
       "158   {'neg_log_loss': -0.6911999174202923}           2.580630   \n",
       "159   {'neg_log_loss': -0.6912154271501312}           2.397571   \n",
       "160    {'neg_log_loss': -0.691215428004673}           2.127307   \n",
       "161                                    None           4.976560   \n",
       "\n",
       "     Memory Usage (GB)                  Finished  \n",
       "0             0.291916  Sun Oct 26 05:46:19 2025  \n",
       "1             0.321918  Sun Oct 26 05:44:26 2025  \n",
       "2             0.281700  Sun Oct 26 05:44:44 2025  \n",
       "3             0.260246  Sun Oct 26 05:46:20 2025  \n",
       "4             0.270805  Sun Oct 26 05:44:51 2025  \n",
       "..                 ...                       ...  \n",
       "157           0.311302  Sun Oct 26 05:55:50 2025  \n",
       "158           0.311913  Sun Oct 26 05:55:52 2025  \n",
       "159           0.311813  Sun Oct 26 05:55:55 2025  \n",
       "160           0.311893  Sun Oct 26 05:55:58 2025  \n",
       "161           0.320225                        -1  \n",
       "\n",
       "[162 rows x 10 columns]"
      ]
     },
     "execution_count": 48,
     "metadata": {},
     "output_type": "execute_result"
    }
   ],
   "source": [
    "print(f'features selected:{est1.selected_features_names_}')\n",
    "trials = est1.completed_trials_summary_[\n",
    "        est1.completed_trials_summary_[\"Step\"].str.contains(\"Adaptive Sampling\")\n",
    "    ]\n",
    "est1.completed_trials_summary_"
   ]
  },
  {
   "cell_type": "markdown",
   "id": "bc3aa104-f5ac-4a91-b96b-c349ed426903",
   "metadata": {
    "tags": []
   },
   "source": [
    "#### <font color=\"white\">2.3.4 Hyperparameter Tuning </font>"
   ]
  },
  {
   "cell_type": "code",
   "execution_count": null,
   "id": "c2b33906-d66f-43c7-8881-df36b1ca3018",
   "metadata": {},
   "outputs": [],
   "source": [
    "trials = _pipeline.completed_trials_summary_[\n",
    "        _pipeline.completed_trials_summary_[\"Step\"].str.contains(\"Model Tuning\")\n",
    "    ]\n",
    "    name_of_score_column = f\"Score ({_pipeline._inferred_score_metric[0].name})\"\n",
    "    trials.replace([np.inf, -np.inf], np.nan, inplace=True)\n",
    "    trials.dropna(subset=[name_of_score_column], inplace=True)\n",
    "    trials.drop(trials[trials[\"Finished\"] == -1].index, inplace=True)\n",
    "    trials[\"Finished\"] = trials[\"Finished\"].apply(\n",
    "        lambda x: time.mktime(datetime.datetime.strptime(x, \"%a %b %d %H:%M:%S %Y\").timetuple())\n",
    "    )\n",
    "    trials.sort_values(by=[\"Finished\"], ascending=True, inplace=True)\n",
    "    scores = trials[name_of_score_column].tolist()\n",
    "    score = []\n",
    "    score.append(scores[0])\n",
    "    for i in range(1, len(scores)):\n",
    "        if scores[i] >= score[i - 1]:\n",
    "            score.append(scores[i])\n",
    "        else:\n",
    "            score.append(score[i - 1])\n",
    "    y_margin = 0.10 * (max(score) - min(score))\n",
    "    fig, ax = plt.subplots(1)\n",
    "    ax.set_title(\"Hyperparameter Tuning Trials\")\n",
    "    ax.set_xlabel(\"Iteration $n$\")\n",
    "    ax.set_ylabel(\"Hit Rate\")\n",
    "    ax.grid(color=\"g\", linestyle=\"-\", linewidth=0.1)\n",
    "    ax.set_ylim(min(score) - y_margin, max(score) + y_margin)\n",
    "    ax.plot(range(1, len(trials) + 1), score, \"k:\", marker=\"s\", color=\"teal\", markersize=3)\n",
    "    plt.show()"
   ]
  },
  {
   "cell_type": "markdown",
   "id": "08c69301-7112-4a62-b2ce-371421f9659f",
   "metadata": {},
   "source": [
    "#### <font color=\"white\">2.3.5 Confusion Matrix </font>"
   ]
  },
  {
   "cell_type": "code",
   "execution_count": 53,
   "id": "df570bb7-9a93-4c2f-b7d2-c4a2cd228fa0",
   "metadata": {
    "tags": []
   },
   "outputs": [
    {
     "data": {
      "text/plain": [
       "Text(83.25, 0.5, 'Actual')"
      ]
     },
     "execution_count": 53,
     "metadata": {},
     "output_type": "execute_result"
    },
    {
     "data": {
      "image/png": "[encoded data removed]",
      "text/plain": [
       "<Figure size 1000x700 with 1 Axes>"
      ]
     },
     "metadata": {},
     "output_type": "display_data"
    }
   ],
   "source": [
    "y_pred=est1.predict(X_test)\n",
    "cm=confusion_matrix(y_test.astype(int),y_pred,labels=[False,True])\n",
    "cm=cm.astype('float')/cm.sum(axis=1)[:,np.newaxis]\n",
    "\n",
    "df_cm=pd.DataFrame(cm)\n",
    "df_cm=df_cm*100\n",
    "\n",
    "ax=sns.heatmap(df_cm,annot=True,fmt='.2f',cbar=False,xticklabels=['<=50k','>50k'],yticklabels=['<=50k','>50k'])\n",
    "\n",
    "ax.set_xlabel('Prediction')\n",
    "ax.set_ylabel('Actual')"
   ]
  },
  {
   "cell_type": "markdown",
   "id": "7a966c4c-59d9-4243-8986-7e5e43fc77f6",
   "metadata": {},
   "source": [
    "### <font color=\"white\">2.4 Analyze AutoML Optimization Process </font>"
   ]
  },
  {
   "cell_type": "markdown",
   "id": "4651f83c-6430-4496-8718-9bbe7f91b2a8",
   "metadata": {},
   "source": [
    "#### <font color=\"white\">2.4.1 Provide a Specific Model List to AutoML </font>"
   ]
  },
  {
   "cell_type": "markdown",
   "id": "7045ae81-91af-46c9-a1ac-7c291c613e9e",
   "metadata": {},
   "source": [
    "AutoMLX allows for specification of a model or a combination of models based on the following algorithms:\n",
    "\n",
    "- AdaBoostClassifier\n",
    "- DecisionTreeClassifier\n",
    "- ExtraTreesClassifier\n",
    "- TorchMLPClassifier\n",
    "- KNeighborsClassifier\n",
    "- LGBMClassifier\n",
    "- LinearSVC\n",
    "- LogisticRegression\n",
    "- RandomForestClassifier\n",
    "- SVC\n",
    "- XGBClassifier\n",
    "- GaussianNB"
   ]
  },
  {
   "cell_type": "code",
   "execution_count": 73,
   "id": "7d391b71-62a2-45ec-ad47-38b625ffa80f",
   "metadata": {
    "tags": []
   },
   "outputs": [
    {
     "name": "stdout",
     "output_type": "stream",
     "text": [
      "[2025-10-26 15:26:45,165] [automlx.interface] Dataset shape: (34189,14)\n",
      "[2025-10-26 15:26:45,264] [automlx.data_transform] Running preprocessing. Number of features: 15\n",
      "[2025-10-26 15:26:46,063] [automlx.data_transform] Preprocessing completed. Took 0.799 secs\n",
      "[2025-10-26 15:26:46,074] [automlx.process] Running Model Generation\n"
     ]
    },
    {
     "ename": "AttributeError",
     "evalue": "'str' object has no attribute 'remove'",
     "output_type": "error",
     "traceback": [
      "\u001b[0;31m---------------------------------------------------------------------------\u001b[0m",
      "\u001b[0;31mAttributeError\u001b[0m                            Traceback (most recent call last)",
      "Cell \u001b[0;32mIn[73], line 2\u001b[0m\n\u001b[1;32m      1\u001b[0m est2\u001b[38;5;241m=\u001b[39mautomlx\u001b[38;5;241m.\u001b[39mPipeline(model_list\u001b[38;5;241m=\u001b[39m\u001b[38;5;124m'\u001b[39m\u001b[38;5;124mLogisticRegression\u001b[39m\u001b[38;5;124m'\u001b[39m)\n\u001b[0;32m----> 2\u001b[0m \u001b[43mest2\u001b[49m\u001b[38;5;241;43m.\u001b[39;49m\u001b[43mfit\u001b[49m\u001b[43m(\u001b[49m\u001b[43mX_train\u001b[49m\u001b[43m,\u001b[49m\u001b[43my_train\u001b[49m\u001b[43m)\u001b[49m\n\u001b[1;32m      3\u001b[0m y_proba\u001b[38;5;241m=\u001b[39mest2\u001b[38;5;241m.\u001b[39mpredict_proba(X_test)\n\u001b[1;32m      4\u001b[0m score_default\u001b[38;5;241m=\u001b[39mroc_auc_score(y_test,y_proba[:,\u001b[38;5;241m1\u001b[39m])\n",
      "File \u001b[0;32m<oracle_automlx-25.1.1>/automlx/_interface/classifier.py:521\u001b[0m, in \u001b[0;36mfit\u001b[0;34m(self, X, y, X_valid, y_valid, cv, col_types, time_budget)\u001b[0m\n",
      "File \u001b[0;32m<oracle_automlx-25.1.1>/automlx/_interface/_classic.py:554\u001b[0m, in \u001b[0;36mfit\u001b[0;34m(self, X, y, X_valid, y_valid, cv, col_types, time_budget)\u001b[0m\n",
      "File \u001b[0;32m<oracle_automlx-25.1.1>/automlx/_utils/profile.py:117\u001b[0m, in \u001b[0;36mwrapped_f\u001b[0;34m(*args, **kwargs)\u001b[0m\n",
      "File \u001b[0;32m<oracle_automlx-25.1.1>/automlx/_utils/profile.py:133\u001b[0m, in \u001b[0;36mprofile_wrapper\u001b[0;34m(self, func, *args, **kwargs)\u001b[0m\n",
      "File \u001b[0;32m<oracle_automlx-25.1.1>/automlx/_utils/profile.py:655\u001b[0m, in \u001b[0;36m_profile_resources\u001b[0;34m(name, func, args, kwargs, pf, profile_marker, interval)\u001b[0m\n",
      "File \u001b[0;32m<oracle_automlx-25.1.1>/automlx/_interface/_classic.py:568\u001b[0m, in \u001b[0;36m_fit\u001b[0;34m(self, X, y, X_valid, y_valid, cv, col_types, time_budget)\u001b[0m\n",
      "File \u001b[0;32m<oracle_automlx-25.1.1>/automlx/_interface/classifier.py:452\u001b[0m, in \u001b[0;36mtrain\u001b[0;34m(self, X, y, X_valid, y_valid, cv, col_types, time_budget)\u001b[0m\n",
      "File \u001b[0;32m<oracle_automlx-25.1.1>/automlx/_interface/_classic.py:482\u001b[0m, in \u001b[0;36mtrain\u001b[0;34m(self, X, y, X_valid, y_valid, cv, col_types, time_budget)\u001b[0m\n",
      "File \u001b[0;32m<oracle_automlx-25.1.1>/automlx/_interface/classifier_for_ds.py:548\u001b[0m, in \u001b[0;36mtrain\u001b[0;34m(self, dataset, dataset_valid, cv, col_types, time_budget)\u001b[0m\n",
      "File \u001b[0;32m<oracle_automlx-25.1.1>/automlx/_interface/_classic_for_ds.py:798\u001b[0m, in \u001b[0;36mtrain\u001b[0;34m(self, dataset, dataset_valid, cv, col_types, time_budget)\u001b[0m\n",
      "File \u001b[0;32m<oracle_automlx-25.1.1>/automlx/_interface/_classic_for_ds.py:524\u001b[0m, in \u001b[0;36m_run_process\u001b[0;34m(self, all_steps, dataset, time_budget)\u001b[0m\n",
      "File \u001b[0;32m<oracle_automlx-25.1.1>/automlx/_process/process.py:285\u001b[0m, in \u001b[0;36mrun\u001b[0;34m(self, dataset, pipelines, split)\u001b[0m\n",
      "File \u001b[0;32m<oracle_automlx-25.1.1>/automlx/_utils/profile.py:117\u001b[0m, in \u001b[0;36mwrapped_f\u001b[0;34m(*args, **kwargs)\u001b[0m\n",
      "File \u001b[0;32m<oracle_automlx-25.1.1>/automlx/_utils/profile.py:133\u001b[0m, in \u001b[0;36mprofile_wrapper\u001b[0;34m(self, func, *args, **kwargs)\u001b[0m\n",
      "File \u001b[0;32m<oracle_automlx-25.1.1>/automlx/_utils/profile.py:655\u001b[0m, in \u001b[0;36m_profile_resources\u001b[0;34m(name, func, args, kwargs, pf, profile_marker, interval)\u001b[0m\n",
      "File \u001b[0;32m<oracle_automlx-25.1.1>/automlx/_process/process.py:301\u001b[0m, in \u001b[0;36m_run\u001b[0;34m(self, data_wraps)\u001b[0m\n",
      "File \u001b[0;32m<oracle_automlx-25.1.1>/automlx/_process/step.py:90\u001b[0m, in \u001b[0;36mrun\u001b[0;34m(self, input_data_wraps)\u001b[0m\n",
      "File \u001b[0;32m<oracle_automlx-25.1.1>/automlx/_model/model_generator.py:257\u001b[0m, in \u001b[0;36m_run\u001b[0;34m(self, input_data_wraps)\u001b[0m\n",
      "File \u001b[0;32m<oracle_automlx-25.1.1>/automlx/_model/model_generator.py:257\u001b[0m, in \u001b[0;36m<listcomp>\u001b[0;34m(.0)\u001b[0m\n",
      "File \u001b[0;32m<oracle_automlx-25.1.1>/automlx/_model/model_generator.py:270\u001b[0m, in \u001b[0;36m_run_model_generation\u001b[0;34m(self, input_data_wrap)\u001b[0m\n",
      "File \u001b[0;32m<oracle_automlx-25.1.1>/automlx/_model/model_generator.py:322\u001b[0m, in \u001b[0;36mget_relevant_models\u001b[0;34m(self, dataset_description, builtin_models)\u001b[0m\n",
      "\u001b[0;31mAttributeError\u001b[0m: 'str' object has no attribute 'remove'"
     ]
    }
   ],
   "source": [
    "est2=automlx.Pipeline(model_list='LogisticRegression')\n",
    "est2.fit(X_train,y_train)\n",
    "y_proba=est2.predict_proba(X_test)\n",
    "score_default=roc_auc_score(y_test,y_proba[:,1])\n",
    "print(f'Score on test data : {score_default}')"
   ]
  },
  {
   "cell_type": "markdown",
   "id": "774f03a3-93c5-4f3b-bd41-82a248e6ae81",
   "metadata": {},
   "source": [
    "#### <font color=\"white\">2.4.2 Define a Custom Validation Set </font>"
   ]
  },
  {
   "cell_type": "code",
   "execution_count": 78,
   "id": "4ff2029b-2f0c-4d98-9c19-6bc4ac278f0a",
   "metadata": {
    "tags": []
   },
   "outputs": [
    {
     "name": "stdout",
     "output_type": "stream",
     "text": [
      "[2025-10-26 15:36:53,070] [automlx.interface] Dataset shape: (23932,14)\n",
      "[2025-10-26 15:36:53,176] [automlx.data_transform] Running preprocessing. Number of features: 15\n",
      "[2025-10-26 15:36:53,907] [automlx.data_transform] Preprocessing completed. Took 0.731 secs\n",
      "[2025-10-26 15:36:53,918] [automlx.process] Running Model Generation\n",
      "[2025-10-26 15:36:53,976] [automlx.process] KNeighborsClassifier is disabled. The KNeighborsClassifier model is only recommended for datasets with less than 10000 samples and 1000 features.\n",
      "[2025-10-26 15:36:53,976] [automlx.process] SVC is disabled. The SVC model is only recommended for datasets with less than 10000 samples and 1000 features.\n",
      "[2025-10-26 15:36:53,978] [automlx.process] Model Generation completed.\n",
      "[2025-10-26 15:36:54,065] [automlx.model_selection] Running Model Selection\n",
      "[LightGBM] [Info] Number of positive: 2500, number of negative: 2500\n",
      "[LightGBM] [Info] Auto-choosing row-wise multi-threading, the overhead of testing was 0.012600 seconds.\n",
      "You can set `force_row_wise=true` to remove the overhead.\n",
      "And if memory is not enough, you can set `force_col_wise=true`.\n",
      "[LightGBM] [Info] Total Bins 396\n",
      "[LightGBM] [Info] Number of data points in the train set: 5000, number of used features: 15\n",
      "[LightGBM] [Info] [binary:BoostFromScore]: pavg=0.500000 -> initscore=0.000000\n",
      "[2025-10-26 15:37:28,395] [automlx.model_selection] Model Selection completed - Took 34.330 sec - Selected models: [['XGBClassifier']]\n",
      "[2025-10-26 15:37:28,432] [automlx.adaptive_sampling] Running Adaptive Sampling. Dataset shape: (23932,16).\n",
      "[2025-10-26 15:37:33,014] [automlx.trials] Adaptive Sampling completed - Took 4.5817 sec.\n",
      "[2025-10-26 15:37:33,108] [automlx.feature_selection] Starting feature ranking for XGBClassifier\n",
      "[2025-10-26 15:38:06,139] [automlx.feature_selection] Feature Selection completed. Took 33.031 secs.\n",
      "[2025-10-26 15:38:06,175] [automlx.trials] Running Model Tuning for ['XGBClassifier']\n",
      "[2025-10-26 15:45:54,835] [automlx.trials] Best parameters for XGBClassifier: {'learning_rate': 0.1, 'min_child_weight': 1, 'max_depth': 5, 'reg_alpha': 2.0614973062608044, 'booster': 'gbtree', 'reg_lambda': 1, 'n_estimators': 100, 'use_label_encoder': False}\n",
      "[2025-10-26 15:45:54,842] [automlx.trials] Model Tuning completed. Took: 468.667 secs\n",
      "[2025-10-26 15:45:56,808] [automlx.interface] Re-fitting pipeline\n",
      "[2025-10-26 15:45:56,831] [automlx.final_fit] Skipping updating parameter seed, already fixed by FinalFit_6f1a2761-8\n",
      "[2025-10-26 15:46:00,667] [automlx.interface] AutoMLx completed.\n"
     ]
    },
    {
     "data": {
      "text/plain": [
       "<automlx._interface.classifier.AutoClassifier at 0x7ff26a4cc390>"
      ]
     },
     "execution_count": 78,
     "metadata": {},
     "output_type": "execute_result"
    }
   ],
   "source": [
    "X_train,X_val,y_train,y_val=train_test_split(X_train,y_train,train_size=0.7,random_state=0)\n",
    "\n",
    "est3=automlx.Pipeline()\n",
    "est3.fit(X_train,y_train,X_val,y_val)\n"
   ]
  },
  {
   "cell_type": "code",
   "execution_count": null,
   "id": "9d3b6fe8-4000-4532-8206-f0ab5265cd9e",
   "metadata": {},
   "outputs": [],
   "source": [
    "y_proba=est2.predict_proba(X_test)\n",
    "score_default=roc_auc_score(y_test,y_proba[:,1])\n",
    "print(f'Score on test data : {score_default}')"
   ]
  },
  {
   "cell_type": "markdown",
   "id": "8e47f546-63bb-406a-b20f-85baff1582c0",
   "metadata": {
    "tags": []
   },
   "source": [
    "#### <font color=\"white\">2.4.3 Increase the number of tuned models </font>"
   ]
  },
  {
   "cell_type": "code",
   "execution_count": null,
   "id": "d88fe90c-5031-4971-bbd6-59389c4e73f2",
   "metadata": {},
   "outputs": [],
   "source": [
    "est3=automlx.Pipeline(n_algos_tuned=2,model_list=['GausSianNB','LogisticRegression','DecisionTreeClassifier'])\n",
    "est3.fit(X_train,y_train,X_val,y_val)"
   ]
  },
  {
   "cell_type": "code",
   "execution_count": null,
   "id": "c49aeebf-da41-4a8d-9d77-9713486d9329",
   "metadata": {},
   "outputs": [],
   "source": [
    "y_proba=est2.predict_proba(X_test)\n",
    "score_default=roc_auc_score(y_test,y_proba[:,1])\n",
    "print(f'Score on test data : {score_default}')"
   ]
  },
  {
   "cell_type": "markdown",
   "id": "bc3eef5f-a9e7-415f-9781-05d1704f9ccf",
   "metadata": {},
   "source": [
    "#### <font color=\"white\">2.4.3 Specify a Different Scoring Metric to AutoML </font>"
   ]
  },
  {
   "cell_type": "markdown",
   "id": "bbda4964-3664-47fa-9535-6a2d021e1754",
   "metadata": {
    "tags": []
   },
   "source": [
    "The default score metrics for automlx are\n",
    "- For classification: neg_log_loss\n",
    "- For Regression: neg_mean_squared_error\n",
    "\n",
    "The available metrics and charts to choose from are:\n",
    "- For Binary Classification - Like 1 or 0\n",
    "    - Metrics\n",
    "        - roc_auc\n",
    "        - accuracy\n",
    "        - Hamming Loss\n",
    "        - precision and its alternatives (micro,macro,weighted,samples)\n",
    "        - recall and its alternatives (micro,macro,weighted,samples)\n",
    "        - f1 and its alternatives (micro,macro,weighted,samples)\n",
    "    - Charts\n",
    "        - ROC Curve\n",
    "        - Precision, Recall Curve\n",
    "        - Lift Chart\n",
    "        - Gain Chart\n",
    "        - Confusion Matrix\n",
    "- For Multiclass Classification - Discreet Data like Colours\n",
    "    - Metrics\n",
    "        - neg_log_loss\n",
    "        - Hamming Loss\n",
    "        - roc_auc\n",
    "        - accuracy\n",
    "        - precision and its alternatives (micro,macro,weighted,samples)\n",
    "        - recall and its alternatives (micro,macro,weighted,samples)\n",
    "        - f1 and its alternatives (micro,macro,weighted,samples)\n",
    "    - Charts\n",
    "        - Precision By Label\n",
    "        - Recall By Label\n",
    "        - ROC Curve\n",
    "        - F1 By Label\n",
    "        - Precision - Recall Curve\n",
    "        - Confusion Matrix\n",
    "        - Jaccard By Label\n",
    "- For Regression - Continuous Data like Prices\n",
    "    - Metrics\n",
    "        - R - Squared\n",
    "        - Explained Variance Score\n",
    "        - Mean Squared Error\n",
    "            - neg_mean_squared_error\n",
    "            - neg_mean_squared_log_error\n",
    "        - Root Mean Squared Error\n",
    "        - Mean Absolute Error\n",
    "            - neg_mean_absolute_error\n",
    "        - neg_median_absolute_error\n",
    "        - Mean Residuals\n",
    "    - Charts\n",
    "        - A plot of Actual Vs Predicted Values\n",
    "        - A plot of Residuals Quantile - Quantile: should be close to a straight line\n",
    "        - A plot of Residuals vs Predicted Values: should not have a good structure\n",
    "        - A plot of Residuals vs Actual Values: should not have a good structure"
   ]
  },
  {
   "cell_type": "code",
   "execution_count": null,
   "id": "dbb01e42-a15c-4286-a2c0-774700d3a22a",
   "metadata": {},
   "outputs": [],
   "source": [
    "#specifying to automl to optimize the accuracy metric\n",
    "est3=automlx.Pipeline(score_metric='accuracy',model_list=['GausSianNB','LogisticRegression','DecisionTreeClassifier'])\n",
    "est3.fit(X_train,y_train,X_val,y_val)"
   ]
  },
  {
   "cell_type": "code",
   "execution_count": null,
   "id": "94276131-563a-4d39-b624-9eb769894b85",
   "metadata": {},
   "outputs": [],
   "source": [
    "y_proba=est2.predict_proba(X_test)\n",
    "score_default=roc_auc_score(y_test,y_proba[:,1])\n",
    "print(f'Score on test data : {score_default}')"
   ]
  },
  {
   "cell_type": "markdown",
   "id": "fb050baa-75b0-42e6-94da-95cfbcff44ab",
   "metadata": {},
   "source": [
    "#### <font color=\"white\">2.4.4 Specify a User Defined Scoring Function to AutoML </font>"
   ]
  },
  {
   "cell_type": "code",
   "execution_count": null,
   "id": "b751b8d8-0480-49ec-91d1-b5bf809d7f87",
   "metadata": {},
   "outputs": [],
   "source": [
    "#Specifying a user defined score function using scikit learn model_scorer\n",
    "score_fn=make_scorer(f1_score,greater_is_better=True,needs_proba=False,average=macro)\n",
    "est3=automlx.Pipeline(score_metric=score_fn,model_list=['GausSianNB','LogisticRegression','DecisionTreeClassifier'])\n",
    "est3.fit(X_train,y_train,X_val,y_val)"
   ]
  },
  {
   "cell_type": "code",
   "execution_count": null,
   "id": "6ac94069-661b-4ccc-85e0-994c017b05cd",
   "metadata": {},
   "outputs": [],
   "source": [
    "y_proba=est2.predict_proba(X_test)\n",
    "score_default=roc_auc_score(y_test,y_proba[:,1])\n",
    "print(f'Score on test data : {score_default}')"
   ]
  },
  {
   "cell_type": "markdown",
   "id": "1933f577-97fd-437c-952a-d5440a0f4f80",
   "metadata": {},
   "source": [
    "#### <font color=\"white\">2.4.5 Specify a time budget to AutoML </font>"
   ]
  },
  {
   "cell_type": "code",
   "execution_count": null,
   "id": "79a89676-489e-4bbb-9877-191ecd0a4974",
   "metadata": {},
   "outputs": [],
   "source": [
    "est3=automlx.Pipeline()\n",
    "est3.fit(X_train,y_train,X_val,y_val,time_budget=10)"
   ]
  },
  {
   "cell_type": "code",
   "execution_count": null,
   "id": "9a0c5129-58e4-4098-8eed-4255606dfa4a",
   "metadata": {},
   "outputs": [],
   "source": [
    "y_proba=est2.predict_proba(X_test)\n",
    "score_default=roc_auc_score(y_test,y_proba[:,1])\n",
    "print(f'Score on test data : {score_default}')"
   ]
  },
  {
   "cell_type": "markdown",
   "id": "08d8da4d-62aa-440b-aa76-b6c9410423b7",
   "metadata": {},
   "source": [
    "#### <font color=\"white\">2.4.6 Specify a Minimum Set of Features to AutoML </font>"
   ]
  },
  {
   "cell_type": "code",
   "execution_count": null,
   "id": "1a208137-d614-43c9-8646-3b7451180ef4",
   "metadata": {},
   "outputs": [],
   "source": [
    "est3=automlx.Pipeline(min_features=['fnlwgt','native-country'])\n",
    "est3.fit(X_train,y_train,X_val,y_val,time_budget=10)"
   ]
  },
  {
   "cell_type": "code",
   "execution_count": null,
   "id": "1ebf0360-5670-4641-8902-6e0a34afa6dc",
   "metadata": {},
   "outputs": [],
   "source": [
    "y_proba=est2.predict_proba(X_test)\n",
    "score_default=roc_auc_score(y_test,y_proba[:,1])\n",
    "print(f'Score on test data : {score_default}')\n",
    "print(f'Selected Features : {est3.selected_feature_names_}')"
   ]
  },
  {
   "cell_type": "markdown",
   "id": "9a1c05bd-3db4-4041-adf3-f897c656047a",
   "metadata": {
    "tags": []
   },
   "source": [
    "# <font color=\"white\">References </font>"
   ]
  },
  {
   "cell_type": "markdown",
   "id": "d51b9886-2088-45d5-b569-8b24df19d02d",
   "metadata": {},
   "source": [
    "Examples: https://automl.oraclecorp.com"
   ]
  },
  {
   "cell_type": "markdown",
   "id": "60d35d28-3d9b-4df3-9d6d-af5c587a3c4c",
   "metadata": {},
   "source": [
    "Oracle AutoML: https://www.vldb.org/pvldb/vol13/p3166-yakovlev.pdf"
   ]
  },
  {
   "cell_type": "markdown",
   "id": "808b3a24-a5f3-4f59-a50b-02f5e8ca8cd8",
   "metadata": {},
   "source": [
    "Interpretable Machine Learning: https://christophm.github.io/interpretable-ml-book"
   ]
  },
  {
   "cell_type": "code",
   "execution_count": null,
   "id": "196e4329-d012-4f55-b510-22199665bda2",
   "metadata": {},
   "outputs": [],
   "source": []
  }
 ],
 "metadata": {
  "kernelspec": {
   "display_name": "Python [conda env:automlx251_p311_cpu_x86_64_v2]",
   "language": "python",
   "name": "conda-env-automlx251_p311_cpu_x86_64_v2-py"
  },
  "language_info": {
   "codemirror_mode": {
    "name": "ipython",
    "version": 3
   },
   "file_extension": ".py",
   "mimetype": "text/x-python",
   "name": "python",
   "nbconvert_exporter": "python",
   "pygments_lexer": "ipython3",
   "version": "3.11.11"
  }
 },
 "nbformat": 4,
 "nbformat_minor": 5
}
