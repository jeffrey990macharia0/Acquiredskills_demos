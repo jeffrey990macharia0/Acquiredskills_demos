{
 "cells": [
  {
   "cell_type": "markdown",
   "id": "c7f340b2-8fb4-423e-b62a-f44a4c3bb28e",
   "metadata": {},
   "source": [
    "### OCI Data Science - Useful Tips\n",
    "<details>\n",
    "<summary><font size=\"2\">Check for Public Internet Access</font></summary>\n",
    "\n",
    "```python\n",
    "import requests\n",
    "response = requests.get(\"https://oracle.com\")\n",
    "assert response.status_code==200, \"Internet connection failed\"\n",
    "```\n",
    "</details>\n",
    "<details>\n",
    "<summary><font size=\"2\">Helpful Documentation </font></summary>\n",
    "<ul><li><a href=\"https://docs.cloud.oracle.com/en-us/iaas/data-science/using/data-science.htm\">Data Science Service Documentation</a></li>\n",
    "<li><a href=\"https://docs.cloud.oracle.com/iaas/tools/ads-sdk/latest/index.html\">ADS documentation</a></li>\n",
    "</ul>\n",
    "</details>\n",
    "<details>\n",
    "<summary><font size=\"2\">Typical Cell Imports and Settings for ADS</font></summary>\n",
    "\n",
    "```python\n",
    "%load_ext autoreload\n",
    "%autoreload 2\n",
    "%matplotlib inline\n",
    "\n",
    "import warnings\n",
    "warnings.filterwarnings('ignore')\n",
    "\n",
    "import logging\n",
    "logging.basicConfig(format='%(levelname)s:%(message)s', level=logging.ERROR)\n",
    "\n",
    "import ads\n",
    "from ads.dataset.factory import DatasetFactory\n",
    "from ads.automl.provider import OracleAutoMLProvider\n",
    "from ads.automl.driver import AutoML\n",
    "from ads.evaluations.evaluator import ADSEvaluator\n",
    "from ads.common.data import ADSData\n",
    "from ads.explanations.explainer import ADSExplainer\n",
    "from ads.explanations.mlx_global_explainer import MLXGlobalExplainer\n",
    "from ads.explanations.mlx_local_explainer import MLXLocalExplainer\n",
    "from ads.catalog.model import ModelCatalog\n",
    "from ads.common.model_artifact import ModelArtifact\n",
    "```\n",
    "</details>\n",
    "<details>\n",
    "<summary><font size=\"2\">Useful Environment Variables</font></summary>\n",
    "\n",
    "```python\n",
    "import os\n",
    "print(os.environ[\"NB_SESSION_COMPARTMENT_OCID\"])\n",
    "print(os.environ[\"PROJECT_OCID\"])\n",
    "print(os.environ[\"USER_OCID\"])\n",
    "print(os.environ[\"TENANCY_OCID\"])\n",
    "print(os.environ[\"NB_REGION\"])\n",
    "```\n",
    "</details>"
   ]
  },
  {
   "cell_type": "markdown",
   "id": "6dbfaa68-ca48-4b65-9a2d-990c375e93c3",
   "metadata": {
    "tags": []
   },
   "source": [
    "# <font color=\"white\">1. Environment Setup</font>"
   ]
  },
  {
   "cell_type": "markdown",
   "id": "41becdc9-bfdb-41da-9672-a5033f5194db",
   "metadata": {},
   "source": [
    "Install and activate the tensorflow27_p37_cpu_v1 conda pack"
   ]
  },
  {
   "cell_type": "code",
   "execution_count": 79,
   "id": "cc9142c9-9443-453c-8c0b-c68f6825f517",
   "metadata": {
    "tags": []
   },
   "outputs": [
    {
     "name": "stdout",
     "output_type": "stream",
     "text": [
      "Requirement already satisfied: tensorflow_datasets in /home/datascience/conda/automlx251_p311_cpu_x86_64_v2/lib/python3.11/site-packages (4.9.9)\n",
      "Requirement already satisfied: absl-py in /home/datascience/conda/automlx251_p311_cpu_x86_64_v2/lib/python3.11/site-packages (from tensorflow_datasets) (2.3.1)\n",
      "Requirement already satisfied: array_record>=0.5.0 in /home/datascience/conda/automlx251_p311_cpu_x86_64_v2/lib/python3.11/site-packages (from tensorflow_datasets) (0.8.1)\n",
      "Requirement already satisfied: dm-tree in /home/datascience/conda/automlx251_p311_cpu_x86_64_v2/lib/python3.11/site-packages (from tensorflow_datasets) (0.1.9)\n",
      "Requirement already satisfied: etils>=1.9.1 in /home/datascience/conda/automlx251_p311_cpu_x86_64_v2/lib/python3.11/site-packages (from etils[edc,enp,epath,epy,etree]>=1.9.1; python_version >= \"3.11\"->tensorflow_datasets) (1.13.0)\n",
      "Requirement already satisfied: immutabledict in /home/datascience/conda/automlx251_p311_cpu_x86_64_v2/lib/python3.11/site-packages (from tensorflow_datasets) (4.2.2)\n",
      "Requirement already satisfied: numpy in /home/datascience/conda/automlx251_p311_cpu_x86_64_v2/lib/python3.11/site-packages (from tensorflow_datasets) (1.26.4)\n",
      "Requirement already satisfied: promise in /home/datascience/conda/automlx251_p311_cpu_x86_64_v2/lib/python3.11/site-packages (from tensorflow_datasets) (2.3)\n",
      "Requirement already satisfied: protobuf>=3.20 in /home/datascience/conda/automlx251_p311_cpu_x86_64_v2/lib/python3.11/site-packages (from tensorflow_datasets) (6.33.0)\n",
      "Requirement already satisfied: psutil in /home/datascience/conda/automlx251_p311_cpu_x86_64_v2/lib/python3.11/site-packages (from tensorflow_datasets) (5.9.5)\n",
      "Requirement already satisfied: pyarrow in /home/datascience/conda/automlx251_p311_cpu_x86_64_v2/lib/python3.11/site-packages (from tensorflow_datasets) (15.0.0)\n",
      "Requirement already satisfied: requests>=2.19.0 in /home/datascience/conda/automlx251_p311_cpu_x86_64_v2/lib/python3.11/site-packages (from tensorflow_datasets) (2.32.3)\n",
      "Requirement already satisfied: simple_parsing in /home/datascience/conda/automlx251_p311_cpu_x86_64_v2/lib/python3.11/site-packages (from tensorflow_datasets) (0.1.7)\n",
      "Requirement already satisfied: tensorflow-metadata in /home/datascience/conda/automlx251_p311_cpu_x86_64_v2/lib/python3.11/site-packages (from tensorflow_datasets) (1.17.2)\n",
      "Requirement already satisfied: termcolor in /home/datascience/conda/automlx251_p311_cpu_x86_64_v2/lib/python3.11/site-packages (from tensorflow_datasets) (3.0.1)\n",
      "Requirement already satisfied: toml in /home/datascience/conda/automlx251_p311_cpu_x86_64_v2/lib/python3.11/site-packages (from tensorflow_datasets) (0.10.2)\n",
      "Requirement already satisfied: tqdm in /home/datascience/conda/automlx251_p311_cpu_x86_64_v2/lib/python3.11/site-packages (from tensorflow_datasets) (4.67.1)\n",
      "Requirement already satisfied: wrapt in /home/datascience/conda/automlx251_p311_cpu_x86_64_v2/lib/python3.11/site-packages (from tensorflow_datasets) (1.17.2)\n",
      "Requirement already satisfied: einops in /home/datascience/conda/automlx251_p311_cpu_x86_64_v2/lib/python3.11/site-packages (from etils[edc,enp,epath,epy,etree]>=1.9.1; python_version >= \"3.11\"->tensorflow_datasets) (0.8.1)\n",
      "Requirement already satisfied: fsspec in /home/datascience/conda/automlx251_p311_cpu_x86_64_v2/lib/python3.11/site-packages (from etils[edc,enp,epath,epy,etree]>=1.9.1; python_version >= \"3.11\"->tensorflow_datasets) (2023.12.2)\n",
      "Requirement already satisfied: importlib_resources in /home/datascience/conda/automlx251_p311_cpu_x86_64_v2/lib/python3.11/site-packages (from etils[edc,enp,epath,epy,etree]>=1.9.1; python_version >= \"3.11\"->tensorflow_datasets) (6.5.2)\n",
      "Requirement already satisfied: typing_extensions in /home/datascience/conda/automlx251_p311_cpu_x86_64_v2/lib/python3.11/site-packages (from etils[edc,enp,epath,epy,etree]>=1.9.1; python_version >= \"3.11\"->tensorflow_datasets) (4.13.1)\n",
      "Requirement already satisfied: zipp in /home/datascience/conda/automlx251_p311_cpu_x86_64_v2/lib/python3.11/site-packages (from etils[edc,enp,epath,epy,etree]>=1.9.1; python_version >= \"3.11\"->tensorflow_datasets) (3.21.0)\n",
      "Requirement already satisfied: charset_normalizer<4,>=2 in /home/datascience/conda/automlx251_p311_cpu_x86_64_v2/lib/python3.11/site-packages (from requests>=2.19.0->tensorflow_datasets) (3.4.1)\n",
      "Requirement already satisfied: idna<4,>=2.5 in /home/datascience/conda/automlx251_p311_cpu_x86_64_v2/lib/python3.11/site-packages (from requests>=2.19.0->tensorflow_datasets) (3.10)\n",
      "Requirement already satisfied: urllib3<3,>=1.21.1 in /home/datascience/conda/automlx251_p311_cpu_x86_64_v2/lib/python3.11/site-packages (from requests>=2.19.0->tensorflow_datasets) (2.3.0)\n",
      "Requirement already satisfied: certifi>=2017.4.17 in /home/datascience/conda/automlx251_p311_cpu_x86_64_v2/lib/python3.11/site-packages (from requests>=2.19.0->tensorflow_datasets) (2025.1.31)\n",
      "Requirement already satisfied: attrs>=18.2.0 in /home/datascience/conda/automlx251_p311_cpu_x86_64_v2/lib/python3.11/site-packages (from dm-tree->tensorflow_datasets) (25.3.0)\n",
      "Requirement already satisfied: six in /home/datascience/conda/automlx251_p311_cpu_x86_64_v2/lib/python3.11/site-packages (from promise->tensorflow_datasets) (1.17.0)\n",
      "Requirement already satisfied: docstring-parser<1.0,>=0.15 in /home/datascience/conda/automlx251_p311_cpu_x86_64_v2/lib/python3.11/site-packages (from simple_parsing->tensorflow_datasets) (0.17.0)\n",
      "Requirement already satisfied: googleapis-common-protos<2,>=1.56.4 in /home/datascience/conda/automlx251_p311_cpu_x86_64_v2/lib/python3.11/site-packages (from tensorflow-metadata->tensorflow_datasets) (1.69.2)\n"
     ]
    }
   ],
   "source": [
    "!pip install tensorflow_datasets"
   ]
  },
  {
   "cell_type": "markdown",
   "id": "dd2074de-3b47-4f44-ad31-cf84a37f269a",
   "metadata": {},
   "source": [
    "# <font color=\"white\">2. Importing the Libraries</font>"
   ]
  },
  {
   "cell_type": "code",
   "execution_count": 80,
   "id": "0c8e93ff-3d17-40a2-996c-9f6f29a5769d",
   "metadata": {
    "tags": []
   },
   "outputs": [],
   "source": [
    "import ads\n",
    "import logging\n",
    "import os\n",
    "import pandas as pd\n",
    "import tempfile\n",
    "import tensorflow as tf\n",
    "import tensorflow_datasets as tads\n",
    "import warnings\n",
    "\n",
    "from ads.catalog.model import ModelCatalog\n",
    "from ads.model.model_metadata import UseCaseType\n",
    "\n",
    "from ads.dataset.factory import DatasetFactory\n",
    "from ads.model.framework.tensorflow_model import TensorFlowModel\n",
    "from shutil import rmtree\n",
    "ads.set_auth(auth='resource_principal')\n",
    "\n",
    "logging.basicConfig(format='%[levelname]s:%[message]s',level=logging.ERROR)\n",
    "warnings.filterwarnings('ignore')\n"
   ]
  },
  {
   "cell_type": "markdown",
   "id": "ce738c71-44ba-4878-984d-5974d5ad637e",
   "metadata": {},
   "source": [
    "# <font color=\"white\">3. Loading the Dataset</font>"
   ]
  },
  {
   "cell_type": "markdown",
   "id": "b58c0306-6e4b-4d4a-8d57-461bdc36c4e8",
   "metadata": {},
   "source": [
    "## <font color=\"white\">3.1 Downloading the Dataset</font>"
   ]
  },
  {
   "cell_type": "code",
   "execution_count": 81,
   "id": "b417cd9a-8885-454a-a90f-a3fee414a547",
   "metadata": {
    "tags": []
   },
   "outputs": [],
   "source": [
    "fminst=tf.keras.datasets.fashion_mnist\n",
    "(x_train,y_train),(x_test,y_test)=fminst.load_data()"
   ]
  },
  {
   "cell_type": "markdown",
   "id": "20a2274c-5a7e-4cfc-99ee-3a16d23a48bd",
   "metadata": {},
   "source": [
    "## <font color=\"white\">3.2 Dataset Description</font>"
   ]
  },
  {
   "cell_type": "markdown",
   "id": "6d138e24-915e-47a7-b104-7ad4ef2216db",
   "metadata": {},
   "source": [
    "The Fashion_MNIST is a dataset of Zalardos article images. Its breakdown is a follows:\n",
    "- It has a training set of 60,000 images\n",
    "- It has a testing set of 10,000 images\n",
    "- Each of the images is a 28px*28px grayscale associated with a label from 10 classes\n",
    "- Each pixel is between 0 - 255\n",
    "- The dataset has 785 columns with the labels being in the first column"
   ]
  },
  {
   "cell_type": "markdown",
   "id": "d13206c5-b33b-41a1-b630-ca959f2813c7",
   "metadata": {
    "tags": []
   },
   "source": [
    "## <font color=\"white\">3.3 Dataset Visualization</font>"
   ]
  },
  {
   "cell_type": "code",
   "execution_count": 82,
   "id": "18ed2451-513a-443a-bbd3-84d8234cab34",
   "metadata": {
    "tags": []
   },
   "outputs": [
    {
     "data": {
      "image/png": "[encoded data removed]",
      "text/plain": [
       "<Figure size 640x480 with 9 Axes>"
      ]
     },
     "metadata": {},
     "output_type": "display_data"
    }
   ],
   "source": [
    "from matplotlib import pyplot as plt\n",
    "\n",
    "for i in range(9):\n",
    "    plt.subplot(330+1+i)\n",
    "    plt.imshow(x_train[i],cmap='gray')\n",
    "plt.show()"
   ]
  },
  {
   "cell_type": "markdown",
   "id": "549f766a-8f3b-42e4-9714-72a994741f2c",
   "metadata": {
    "tags": []
   },
   "source": [
    "## <font color=\"white\">3.4 Creating the TensorFlow Model</font>"
   ]
  },
  {
   "cell_type": "markdown",
   "id": "7a55743c-3017-4332-8859-6ed422c87e40",
   "metadata": {
    "tags": []
   },
   "source": [
    "### <font color=\"white\">3.4.1 Initializing the Model Class</font>"
   ]
  },
  {
   "cell_type": "markdown",
   "id": "33c432ea-3d6e-4758-93bb-77aa33397cc5",
   "metadata": {},
   "source": [
    "We create a TensorFlow class to do the following:\n",
    "- Downloads the FMNIST dataset\n",
    "- Scales the data to between 0 and 1 \n",
    "- Only the first 10,000 training samples are used to reduce computation time for model generation\n",
    "- The tensor flow model is then created containing the following:\n",
    "    - Input layer of 784 columns of the 28*28 images\n",
    "    - A dense layer of 128 neutrons with a relu activation setting\n",
    "    - a 20% dropout to avoid overfitting\n",
    "    - An dense output layer containing 10 neurons representing the 10 classes in the dataset"
   ]
  },
  {
   "cell_type": "code",
   "execution_count": 83,
   "id": "409e60d6-3ea5-4c82-b8c6-b889050f0d50",
   "metadata": {
    "tags": []
   },
   "outputs": [],
   "source": [
    "class TFModel:\n",
    "    fminst=tf.keras.datasets.fashion_mnist\n",
    "    (x_train,y_train),(x_test,y_test)=fminst.load_data()#downloads and stores the train,test sets\n",
    "    x_train,x_test=x_train/255,x_test/255 #scale between 0 and 1\n",
    "    x_train,y_train=x_train[:10000],y_train[:10000] # Reduce training data\n",
    "    \n",
    "    #define the training function\n",
    "    def training(self):\n",
    "        # Initialize the model\n",
    "        model= tf.keras.models.Sequential([\n",
    "            tf.keras.layers.Flatten(input_shape=(28,28)),\n",
    "            tf.keras.layers.Dense(128,activation='relu'),\n",
    "            tf.keras.layers.Dropout(0.2),\n",
    "            tf.keras.layers.Dense(10)\n",
    "        ])\n",
    "        # Defines the loss function\n",
    "        loss_fn=tf.keras.losses.SparseCategoricalCrossentropy(from_logits=True)\n",
    "        # Compile the model\n",
    "        model.compile(optimizer='adam',loss=loss_fn,metrics=['accuracy'])\n",
    "        # Train the model\n",
    "        model.fit(self.x_train,self.y_train,epochs=1)\n",
    "        # Return the trained model\n",
    "        return model"
   ]
  },
  {
   "cell_type": "markdown",
   "id": "e0af50c1-d9a3-49c9-b389-7b08e23023ba",
   "metadata": {
    "tags": []
   },
   "source": [
    "### <font color=\"white\">3.4.2 Running and Training the Model</font>"
   ]
  },
  {
   "cell_type": "markdown",
   "id": "b15cbf23-b2a8-474e-b8e2-d20d4d012cfb",
   "metadata": {},
   "source": [
    "Running and Training the model from the TFModel Class"
   ]
  },
  {
   "cell_type": "code",
   "execution_count": 84,
   "id": "32d068f3-a8e4-40c7-b526-34ee79dbd4fa",
   "metadata": {
    "tags": []
   },
   "outputs": [
    {
     "name": "stdout",
     "output_type": "stream",
     "text": [
      "\u001b[1m313/313\u001b[0m \u001b[32m━━━━━━━━━━━━━━━━━━━━\u001b[0m\u001b[37m\u001b[0m \u001b[1m2s\u001b[0m 4ms/step - accuracy: 0.7265 - loss: 0.7900\n"
     ]
    }
   ],
   "source": [
    "model=TFModel().training()"
   ]
  },
  {
   "cell_type": "markdown",
   "id": "849704b3-43bf-4cc5-8bc9-13adffe542dc",
   "metadata": {},
   "source": [
    "### <font color=\"white\">3.4.3 Model Predictions</font>"
   ]
  },
  {
   "cell_type": "markdown",
   "id": "84f186e4-0893-469a-9dc0-fb3e8f7d4d25",
   "metadata": {},
   "source": [
    "Model Prediction\n",
    "- We then create a prediction using a test set passed to the predict method\n",
    "- Each prediction outputs 10 values since there are 10 nodes on the output\n",
    "- The node with the highest value is the predicted digit\n"
   ]
  },
  {
   "cell_type": "code",
   "execution_count": 85,
   "id": "55f1d82e-88b2-4664-af15-2be959e35ced",
   "metadata": {
    "tags": []
   },
   "outputs": [
    {
     "name": "stdout",
     "output_type": "stream",
     "text": [
      "WARNING:tensorflow:6 out of the last 6 calls to <function TensorFlowTrainer.make_predict_function.<locals>.one_step_on_data_distributed at 0x7ff332674ae0> triggered tf.function retracing. Tracing is expensive and the excessive number of tracings could be due to (1) creating @tf.function repeatedly in a loop, (2) passing tensors with different shapes, (3) passing Python objects instead of tensors. For (1), please define your @tf.function outside of the loop. For (2), @tf.function has reduce_retracing=True option that can avoid unnecessary retracing. For (3), please refer to https://www.tensorflow.org/guide/function#controlling_retracing and https://www.tensorflow.org/api_docs/python/tf/function for  more details.\n",
      "WARNING:tensorflow:6 out of the last 6 calls to <function TensorFlowTrainer.make_predict_function.<locals>.one_step_on_data_distributed at 0x7ff332674ae0> triggered tf.function retracing. Tracing is expensive and the excessive number of tracings could be due to (1) creating @tf.function repeatedly in a loop, (2) passing tensors with different shapes, (3) passing Python objects instead of tensors. For (1), please define your @tf.function outside of the loop. For (2), @tf.function has reduce_retracing=True option that can avoid unnecessary retracing. For (3), please refer to https://www.tensorflow.org/guide/function#controlling_retracing and https://www.tensorflow.org/api_docs/python/tf/function for  more details.\n",
      "\u001b[1m1/1\u001b[0m \u001b[32m━━━━━━━━━━━━━━━━━━━━\u001b[0m\u001b[37m\u001b[0m \u001b[1m0s\u001b[0m 66ms/step\n"
     ]
    },
    {
     "data": {
      "text/plain": [
       "array([[-4.362089 , -3.8880284, -3.0444667, -3.371047 , -4.5876656,\n",
       "         3.0824497, -2.7359307,  3.0371804,  1.4472779,  4.476155 ]],\n",
       "      dtype=float32)"
      ]
     },
     "execution_count": 85,
     "metadata": {},
     "output_type": "execute_result"
    }
   ],
   "source": [
    "model.predict(TFModel().x_test[0:1])"
   ]
  },
  {
   "cell_type": "markdown",
   "id": "388d1b28-c844-4eb9-8aa7-8f9d25632ea7",
   "metadata": {},
   "source": [
    "### <font color=\"white\">3.4.4 Verifying the Prediction</font>"
   ]
  },
  {
   "cell_type": "code",
   "execution_count": 86,
   "id": "a0fe8b65-fd92-4ca1-b4cf-067f8cfceb36",
   "metadata": {
    "tags": []
   },
   "outputs": [
    {
     "data": {
      "image/png": "[encoded data removed]",
      "text/plain": [
       "<Figure size 640x480 with 1 Axes>"
      ]
     },
     "metadata": {},
     "output_type": "display_data"
    }
   ],
   "source": [
    "plt.subplot(330+1+1)\n",
    "plt.imshow(x_test[0],cmap='gray')\n",
    "plt.show()"
   ]
  },
  {
   "cell_type": "markdown",
   "id": "58437db9-c7a4-4c32-a230-d377f3068dba",
   "metadata": {
    "tags": []
   },
   "source": [
    "## <font color=\"white\">4. Tensor Flow Model Serialization</font>"
   ]
  },
  {
   "cell_type": "markdown",
   "id": "627fd740-cc49-4644-b71b-2a72de2309cc",
   "metadata": {},
   "source": [
    "Model Serialization in Tensorflow allows for the model to be deployed to production using the following steps"
   ]
  },
  {
   "cell_type": "markdown",
   "id": "ff2dc7c5-6108-4a23-bdd3-23515b8771bd",
   "metadata": {},
   "source": [
    "### <font color=\"white\">4.1 Creating the model artefact directory</font>"
   ]
  },
  {
   "cell_type": "code",
   "execution_count": 87,
   "id": "d5de5432-3ce6-4463-94ce-89ff4643c483",
   "metadata": {
    "tags": []
   },
   "outputs": [],
   "source": [
    "artifact_dir='/home/datascience/Acquiredskills_demos/Cloud_Development/Oracle_Cloud_Data_Science/serialized_models'"
   ]
  },
  {
   "cell_type": "markdown",
   "id": "15474dc7-4070-467f-9c7e-7a1b749a92d3",
   "metadata": {},
   "source": [
    "\n",
    "### <font color=\"white\">4.2 Converting the Model to an Object</font>\n",
    "- Using the TensorFlowModel() constructor to convert a Tensor flow model to an object\n",
    "- This object is used to manage the deployment"
   ]
  },
  {
   "cell_type": "code",
   "execution_count": 88,
   "id": "9848120b-8dc1-41dd-b1b9-8aac44531424",
   "metadata": {
    "tags": []
   },
   "outputs": [
    {
     "name": "stdout",
     "output_type": "stream",
     "text": [
      "Model artefact directory: /home/datascience/Acquiredskills_demos/Cloud_Development/Oracle_Cloud_Data_Science/serialized_models\n",
      "WARNING:ads.model.deployment.model_deployment_infrastructure:Error fetching details about Notebook session: ocid1.datasciencenotebooksession.oc1.phx.amaaaaaar5iot3iajwxam43gqcyuefyqx7jpyzo3wo6am4vujqsoonvdkl4a. {'target_service': 'data_science', 'status': 404, 'code': 'NotAuthorizedOrNotFound', 'opc-request-id': 'CA23EB088B374B909AA4B1AA7D52C158/0CB76446362CEF233656006950485803/00D896C05E8F7A9D016B6528C9C727A8', 'message': 'Authorization failed or requested resource not found.', 'operation_name': 'get_notebook_session', 'timestamp': '2025-10-28T05:35:50.974852+00:00', 'client_version': 'Oracle-PythonSDK/2.149.2', 'request_endpoint': 'GET https://datascience.us-phoenix-1.oci.oraclecloud.com/20190101/notebookSessions/ocid1.datasciencenotebooksession.oc1.phx.amaaaaaar5iot3iajwxam43gqcyuefyqx7jpyzo3wo6am4vujqsoonvdkl4a', 'logging_tips': 'To get more info on the failing request, refer to https://docs.oracle.com/en-us/iaas/tools/python/latest/logging.html for ways to log the request/response details.', 'troubleshooting_tips': \"See https://docs.oracle.com/iaas/Content/API/References/apierrors.htm#apierrors_404__404_notauthorizedornotfound for more information about resolving this error. Also see https://docs.oracle.com/iaas/api/#/en/data-science/20190101/NotebookSession/GetNotebookSession for details on this operation's requirements. If you are unable to resolve this data_science issue, please contact Oracle support and provide them this full error message.\"}\n",
      "WARNING:ads.common:In the future model input will be serialized by `cloudpickle` by default. Currently, model input are serialized into a dictionary containing serialized input data and original data type information.Set `model_input_serializer=\"cloudpickle\"` to use cloudpickle model input serializer.\n"
     ]
    }
   ],
   "source": [
    "print(f'Model artefact directory: {artifact_dir}')\n",
    "tf_model=TensorFlowModel(estimator=model,artifact_dir=artifact_dir)"
   ]
  },
  {
   "cell_type": "markdown",
   "id": "78cf0546-c672-4bb3-b440-3e319b23d79c",
   "metadata": {},
   "source": [
    "### <font color=\"white\">4.3 Tracking the Serialization Process</font>\n",
    "We can track progress of our serialisation process using summary_status()"
   ]
  },
  {
   "cell_type": "code",
   "execution_count": 89,
   "id": "28dbb459-35a9-4753-a916-b288cbe2a07a",
   "metadata": {},
   "outputs": [
    {
     "data": {
      "text/html": [
       "<div>\n",
       "<style scoped>\n",
       "    .dataframe tbody tr th:only-of-type {\n",
       "        vertical-align: middle;\n",
       "    }\n",
       "\n",
       "    .dataframe tbody tr th {\n",
       "        vertical-align: top;\n",
       "    }\n",
       "\n",
       "    .dataframe thead th {\n",
       "        text-align: right;\n",
       "    }\n",
       "</style>\n",
       "<table border=\"1\" class=\"dataframe\">\n",
       "  <thead>\n",
       "    <tr style=\"text-align: right;\">\n",
       "      <th></th>\n",
       "      <th></th>\n",
       "      <th></th>\n",
       "      <th>Actions Needed</th>\n",
       "    </tr>\n",
       "    <tr>\n",
       "      <th>Step</th>\n",
       "      <th>Status</th>\n",
       "      <th>Details</th>\n",
       "      <th></th>\n",
       "    </tr>\n",
       "  </thead>\n",
       "  <tbody>\n",
       "    <tr>\n",
       "      <th>initiate</th>\n",
       "      <th>Done</th>\n",
       "      <th>Initiated the model</th>\n",
       "      <td></td>\n",
       "    </tr>\n",
       "    <tr>\n",
       "      <th rowspan=\"4\" valign=\"top\">prepare()</th>\n",
       "      <th rowspan=\"4\" valign=\"top\">Available</th>\n",
       "      <th>Generated runtime.yaml</th>\n",
       "      <td></td>\n",
       "    </tr>\n",
       "    <tr>\n",
       "      <th>Generated score.py</th>\n",
       "      <td></td>\n",
       "    </tr>\n",
       "    <tr>\n",
       "      <th>Serialized model</th>\n",
       "      <td></td>\n",
       "    </tr>\n",
       "    <tr>\n",
       "      <th>Populated metadata(Custom, Taxonomy and Provenance)</th>\n",
       "      <td></td>\n",
       "    </tr>\n",
       "    <tr>\n",
       "      <th>verify()</th>\n",
       "      <th>Not Available</th>\n",
       "      <th>Local tested .predict from score.py</th>\n",
       "      <td></td>\n",
       "    </tr>\n",
       "    <tr>\n",
       "      <th rowspan=\"2\" valign=\"top\">save()</th>\n",
       "      <th rowspan=\"2\" valign=\"top\">Not Available</th>\n",
       "      <th>Conducted Introspect Test</th>\n",
       "      <td></td>\n",
       "    </tr>\n",
       "    <tr>\n",
       "      <th>Uploaded artifact to model catalog</th>\n",
       "      <td></td>\n",
       "    </tr>\n",
       "    <tr>\n",
       "      <th>deploy()</th>\n",
       "      <th>UNKNOWN</th>\n",
       "      <th>Deployed the model</th>\n",
       "      <td></td>\n",
       "    </tr>\n",
       "    <tr>\n",
       "      <th>predict()</th>\n",
       "      <th>Not Available</th>\n",
       "      <th>Called deployment predict endpoint</th>\n",
       "      <td></td>\n",
       "    </tr>\n",
       "  </tbody>\n",
       "</table>\n",
       "</div>"
      ],
      "text/plain": [
       "                                                                            Actions Needed\n",
       "Step      Status        Details                                                           \n",
       "initiate  Done          Initiated the model                                               \n",
       "prepare() Available     Generated runtime.yaml                                            \n",
       "                        Generated score.py                                                \n",
       "                        Serialized model                                                  \n",
       "                        Populated metadata(Custom, Taxonomy and Provenance)               \n",
       "verify()  Not Available Local tested .predict from score.py                               \n",
       "save()    Not Available Conducted Introspect Test                                         \n",
       "                        Uploaded artifact to model catalog                                \n",
       "deploy()  UNKNOWN       Deployed the model                                                \n",
       "predict() Not Available Called deployment predict endpoint                                "
      ]
     },
     "execution_count": 89,
     "metadata": {},
     "output_type": "execute_result"
    }
   ],
   "source": [
    "tf_model.summary_status()"
   ]
  },
  {
   "cell_type": "markdown",
   "id": "875b1a43-99ef-4ff5-9e5c-e21133e45619",
   "metadata": {},
   "source": [
    "### <font color=\"white\">4.4 Preparing the Model</font>\n",
    "The prepare() method is used to prepare the model for deployment. It creates several customized files which include:\n",
    "- input_schema.json - A JSON File which defines the nature of the features of the X_Sample. It includes metadata such as \n",
    "    - data type,name,constraints, summary statistics,feature_type\n",
    "- model.h5: this is the default filename of the serialised model stored using the h5 file extension you can use the as_onnx to save it\n",
    "- output_schema.json: A JSON File that defines the nature of the dependent variable in the y_sample data.It includes metadata such as \n",
    "    - data type,name,constraints, summary statistics,feature_type\n",
    "- runtime.yaml: Contains information needed to setup the runtime environment on server. it contains information such as \n",
    "    -  Conda environment used for training, python version, and the deployment conda environment\n",
    "- score.py: Contains\n",
    "    -  load_model() function: Understands the format the model was saved in and loads it into memory.\n",
    "    - predict() function: Used to make inferences from the model"
   ]
  },
  {
   "cell_type": "code",
   "execution_count": 90,
   "id": "3639a1c2-8938-4477-9fd3-ce4499774693",
   "metadata": {},
   "outputs": [
    {
     "name": "stdout",
     "output_type": "stream",
     "text": [
      "WARNING:absl:You are saving your model as an HDF5 file via `model.save()` or `keras.saving.save_model(model)`. This file format is considered legacy. We recommend using instead the native Keras format, e.g. `model.save('my_model.keras')` or `keras.saving.save_model(model, 'my_model.keras')`. \n",
      "WARNING:ADS:Cannot convert the data to pandas dataframe, hence the schema was not auto generated.\n"
     ]
    },
    {
     "data": {
      "text/plain": [
       "algorithm: Sequential\n",
       "artifact_dir:\n",
       "  /home/datascience/Acquiredskills_demos/Cloud_Development/Oracle_Cloud_Data_Science/serialized_models:\n",
       "  - - output_schema.json\n",
       "    - .model-ignore\n",
       "    - test_json_output.json\n",
       "    - runtime.yaml\n",
       "    - model.h5\n",
       "    - score.py\n",
       "framework: tensorflow\n",
       "model_deployment_id: null\n",
       "model_id: null"
      ]
     },
     "execution_count": 90,
     "metadata": {},
     "output_type": "execute_result"
    }
   ],
   "source": [
    "conda_env='tensorflow27_p37_cpu_v1'\n",
    "\n",
    "tf_model.prepare(\n",
    "    inference_conda_env=conda_env,\n",
    "    training_conda_env=conda_env,\n",
    "    use_case_type=UseCaseType.MULTINOMIAL_CLASSIFICATION,\n",
    "    X_sample=TFModel().x_test,\n",
    "    y_sample=TFModel().y_test,\n",
    "    force_overwrite=True\n",
    ")"
   ]
  },
  {
   "cell_type": "markdown",
   "id": "52935a99-e295-4d97-afb4-dd2921b4e2a5",
   "metadata": {
    "tags": []
   },
   "source": [
    "#### <font color=\"white\">4.4.1 List the Generated Deployment Files</font>"
   ]
  },
  {
   "cell_type": "code",
   "execution_count": 92,
   "id": "948fa8c5-3e46-4ae2-b437-17637698519f",
   "metadata": {
    "tags": []
   },
   "outputs": [
    {
     "data": {
      "text/plain": [
       "['output_schema.json',\n",
       " '.model-ignore',\n",
       " 'test_json_output.json',\n",
       " 'runtime.yaml',\n",
       " 'model.h5',\n",
       " 'score.py']"
      ]
     },
     "execution_count": 92,
     "metadata": {},
     "output_type": "execute_result"
    }
   ],
   "source": [
    "os.listdir(artifact_dir)"
   ]
  },
  {
   "cell_type": "markdown",
   "id": "4fb4ef85-1a9c-4de3-9041-bcf5698cb742",
   "metadata": {
    "tags": []
   },
   "source": [
    "#### <font color=\"white\">4.4.2 Tracking the Serialization Process</font>\n",
    "We can track progress of our serialisation process using summary_status()"
   ]
  },
  {
   "cell_type": "code",
   "execution_count": 93,
   "id": "5e1319f7-8419-4e76-8092-17064bf49529",
   "metadata": {
    "tags": []
   },
   "outputs": [
    {
     "data": {
      "text/html": [
       "<div>\n",
       "<style scoped>\n",
       "    .dataframe tbody tr th:only-of-type {\n",
       "        vertical-align: middle;\n",
       "    }\n",
       "\n",
       "    .dataframe tbody tr th {\n",
       "        vertical-align: top;\n",
       "    }\n",
       "\n",
       "    .dataframe thead th {\n",
       "        text-align: right;\n",
       "    }\n",
       "</style>\n",
       "<table border=\"1\" class=\"dataframe\">\n",
       "  <thead>\n",
       "    <tr style=\"text-align: right;\">\n",
       "      <th></th>\n",
       "      <th></th>\n",
       "      <th></th>\n",
       "      <th>Actions Needed</th>\n",
       "    </tr>\n",
       "    <tr>\n",
       "      <th>Step</th>\n",
       "      <th>Status</th>\n",
       "      <th>Details</th>\n",
       "      <th></th>\n",
       "    </tr>\n",
       "  </thead>\n",
       "  <tbody>\n",
       "    <tr>\n",
       "      <th>initiate</th>\n",
       "      <th>Done</th>\n",
       "      <th>Initiated the model</th>\n",
       "      <td></td>\n",
       "    </tr>\n",
       "    <tr>\n",
       "      <th rowspan=\"4\" valign=\"top\">prepare()</th>\n",
       "      <th rowspan=\"4\" valign=\"top\">Done</th>\n",
       "      <th>Generated runtime.yaml</th>\n",
       "      <td></td>\n",
       "    </tr>\n",
       "    <tr>\n",
       "      <th>Generated score.py</th>\n",
       "      <td></td>\n",
       "    </tr>\n",
       "    <tr>\n",
       "      <th>Serialized model</th>\n",
       "      <td></td>\n",
       "    </tr>\n",
       "    <tr>\n",
       "      <th>Populated metadata(Custom, Taxonomy and Provenance)</th>\n",
       "      <td></td>\n",
       "    </tr>\n",
       "    <tr>\n",
       "      <th>verify()</th>\n",
       "      <th>Available</th>\n",
       "      <th>Local tested .predict from score.py</th>\n",
       "      <td></td>\n",
       "    </tr>\n",
       "    <tr>\n",
       "      <th rowspan=\"2\" valign=\"top\">save()</th>\n",
       "      <th rowspan=\"2\" valign=\"top\">Available</th>\n",
       "      <th>Conducted Introspect Test</th>\n",
       "      <td></td>\n",
       "    </tr>\n",
       "    <tr>\n",
       "      <th>Uploaded artifact to model catalog</th>\n",
       "      <td></td>\n",
       "    </tr>\n",
       "    <tr>\n",
       "      <th>deploy()</th>\n",
       "      <th>UNKNOWN</th>\n",
       "      <th>Deployed the model</th>\n",
       "      <td></td>\n",
       "    </tr>\n",
       "    <tr>\n",
       "      <th>predict()</th>\n",
       "      <th>Not Available</th>\n",
       "      <th>Called deployment predict endpoint</th>\n",
       "      <td></td>\n",
       "    </tr>\n",
       "  </tbody>\n",
       "</table>\n",
       "</div>"
      ],
      "text/plain": [
       "                                                                            Actions Needed\n",
       "Step      Status        Details                                                           \n",
       "initiate  Done          Initiated the model                                               \n",
       "prepare() Done          Generated runtime.yaml                                            \n",
       "                        Generated score.py                                                \n",
       "                        Serialized model                                                  \n",
       "                        Populated metadata(Custom, Taxonomy and Provenance)               \n",
       "verify()  Available     Local tested .predict from score.py                               \n",
       "save()    Available     Conducted Introspect Test                                         \n",
       "                        Uploaded artifact to model catalog                                \n",
       "deploy()  UNKNOWN       Deployed the model                                                \n",
       "predict() Not Available Called deployment predict endpoint                                "
      ]
     },
     "execution_count": 93,
     "metadata": {},
     "output_type": "execute_result"
    }
   ],
   "source": [
    "tf_model.summary_status()"
   ]
  },
  {
   "cell_type": "markdown",
   "id": "41ac03f2-7473-4e1a-8335-c57016261394",
   "metadata": {},
   "source": [
    "#### <font color=\"white\">4.4.3 Inspecting the prepared model artefact</font>"
   ]
  },
  {
   "cell_type": "markdown",
   "id": "38a203d5-52e8-47ee-941f-4bea47da30e8",
   "metadata": {},
   "source": [
    "##### <font color=\"white\">4.4.3.1 Viewing the Model runtime environment</font>"
   ]
  },
  {
   "cell_type": "code",
   "execution_count": 94,
   "id": "92d980b2-93cd-4a1f-88ad-bbf04e714972",
   "metadata": {
    "tags": []
   },
   "outputs": [
    {
     "data": {
      "text/plain": [
       "\n",
       "model_artifact_version: '3.0'\n",
       "model_deployment:\n",
       "  inference_conda_env:\n",
       "    inference_env_path: oci://service-conda-packs@id19sfcrra6z/service_pack/cpu/TensorFlow_2.7_for_CPU_on_Python_3.7/1.0/tensorflow27_p37_cpu_v1\n",
       "    inference_env_slug: tensorflow27_p37_cpu_v1\n",
       "    inference_env_type: data_science\n",
       "    inference_python_version: '3.7'\n",
       "model_provenance:\n",
       "  project_ocid: ''\n",
       "  tenancy_ocid: ''\n",
       "  training_code:\n",
       "    artifact_directory: /home/datascience/Acquiredskills_demos/Cloud_Development/Oracle_Cloud_Data_Science/serialized_models\n",
       "  training_compartment_ocid: ''\n",
       "  training_conda_env:\n",
       "    training_env_path: oci://service-conda-packs@id19sfcrra6z/service_pack/cpu/TensorFlow_2.7_for_CPU_on_Python_3.7/1.0/tensorflow27_p37_cpu_v1\n",
       "    training_env_slug: tensorflow27_p37_cpu_v1\n",
       "    training_env_type: data_science\n",
       "    training_python_version: '3.7'\n",
       "  training_region: ''\n",
       "  training_resource_ocid: ''\n",
       "  user_ocid: ''\n",
       "  vm_image_internal_id: ''"
      ]
     },
     "execution_count": 94,
     "metadata": {},
     "output_type": "execute_result"
    }
   ],
   "source": [
    "tf_model.runtime_info"
   ]
  },
  {
   "cell_type": "markdown",
   "id": "44cb01d7-edf9-4681-9826-caeb3b3899f9",
   "metadata": {},
   "source": [
    "##### <font color=\"white\">4.4.3.2 Viewing the Model schema</font>\n",
    "\n",
    "The .schema_input shows the following information\n",
    "- Features used to train the model\n",
    "- For each feature there is a section showing datatype,feature type, its name and if it is required\\"
   ]
  },
  {
   "cell_type": "code",
   "execution_count": 95,
   "id": "f0fe2f03-3407-4a35-bf1f-c29ef8f79be9",
   "metadata": {
    "tags": []
   },
   "outputs": [
    {
     "data": {
      "text/plain": [
       "schema: []\n",
       "version: '1.1'"
      ]
     },
     "execution_count": 95,
     "metadata": {},
     "output_type": "execute_result"
    }
   ],
   "source": [
    "tf_model.schema_input"
   ]
  },
  {
   "cell_type": "markdown",
   "id": "a2fdf627-5649-46dd-998f-d887afb10c35",
   "metadata": {},
   "source": [
    "#### <font color=\"white\">4.4.3.3 Viewing the Model Custom metadata</font>\n",
    "The .metadata_custom attribute provides custom metadata that contains information on:\n",
    "- Category of metadata\n",
    "- description\n",
    "- key and value pairs"
   ]
  },
  {
   "cell_type": "code",
   "execution_count": 96,
   "id": "70965830-87f9-4a82-a971-dfc70ac71bac",
   "metadata": {
    "tags": []
   },
   "outputs": [
    {
     "data": {
      "text/plain": [
       "data:\n",
       "- category: Training Environment\n",
       "  description: The conda environment where the model was trained.\n",
       "  has_artifact: false\n",
       "  key: CondaEnvironment\n",
       "  value: oci://service-conda-packs@id19sfcrra6z/service_pack/cpu/TensorFlow_2.7_for_CPU_on_Python_3.7/1.0/tensorflow27_p37_cpu_v1\n",
       "- category: Training Profile\n",
       "  description: The model serialization format.\n",
       "  has_artifact: false\n",
       "  key: ModelSerializationFormat\n",
       "  value: h5\n",
       "- category: Training Environment\n",
       "  description: The URI of the training conda environment.\n",
       "  has_artifact: false\n",
       "  key: CondaEnvironmentPath\n",
       "  value: oci://service-conda-packs@id19sfcrra6z/service_pack/cpu/TensorFlow_2.7_for_CPU_on_Python_3.7/1.0/tensorflow27_p37_cpu_v1\n",
       "- category: Training Environment\n",
       "  description: The list of files located in artifacts folder.\n",
       "  has_artifact: false\n",
       "  key: ModelArtifacts\n",
       "  value: output_schema.json, .model-ignore, test_json_output.json, runtime.yaml, model.h5,\n",
       "    score.py\n",
       "- category: Training Environment\n",
       "  description: The conda environment type, can be published or datascience.\n",
       "  has_artifact: false\n",
       "  key: EnvironmentType\n",
       "  value: data_science\n",
       "- category: Other\n",
       "  description: The model file name.\n",
       "  has_artifact: false\n",
       "  key: ModelFileName\n",
       "  value: model.h5\n",
       "- category: Other\n",
       "  description: ''\n",
       "  has_artifact: false\n",
       "  key: ClientLibrary\n",
       "  value: ADS\n",
       "- category: Training Environment\n",
       "  description: The slug name of the training conda environment.\n",
       "  has_artifact: false\n",
       "  key: SlugName\n",
       "  value: tensorflow27_p37_cpu_v1"
      ]
     },
     "execution_count": 96,
     "metadata": {},
     "output_type": "execute_result"
    }
   ],
   "source": [
    "tf_model.metadata_custom"
   ]
  },
  {
   "cell_type": "markdown",
   "id": "40e5ccff-e3d8-4824-bdfb-232d49464e1b",
   "metadata": {},
   "source": [
    "##### <font color=\"white\">4.4.3.4 Viewing the Model provenance</font>\n",
    "The .metadata_provenance contains information about the code and training data used to create the model."
   ]
  },
  {
   "cell_type": "code",
   "execution_count": 97,
   "id": "e39e13c1-ddae-4b73-82a5-e4b0ce76464d",
   "metadata": {
    "tags": []
   },
   "outputs": [
    {
     "data": {
      "text/plain": [
       "\n",
       "artifact_dir: /home/datascience/Acquiredskills_demos/Cloud_Development/Oracle_Cloud_Data_Science/serialized_models\n",
       "git_branch: master\n",
       "git_commit: cad5e14cacd61bd1ce577bda5f2454d7f2db7382\n",
       "repository_url: https://github.com/jeffrey990macharia0/Acquiredskills_demos.git\n",
       "training_id: ocid1.datasciencenotebooksession.oc1.phx.amaaaaaar5iot3iajwxam43gqcyuefyqx7jpyzo3wo6am4vujqsoonvdkl4a\n",
       "training_script_path: null"
      ]
     },
     "execution_count": 97,
     "metadata": {},
     "output_type": "execute_result"
    }
   ],
   "source": [
    "tf_model.metadata_provenance"
   ]
  },
  {
   "cell_type": "markdown",
   "id": "abaea768-68ec-4682-ac5a-c9205c7cf137",
   "metadata": {
    "tags": []
   },
   "source": [
    "#### <font color=\"white\">4.4.3.5 Viewing the model taxonomy</font>\n",
    "This is a key value pair information about the model. It contains information such as\n",
    "- model framework\n",
    "- use case type\n",
    "- hyperparameters"
   ]
  },
  {
   "cell_type": "code",
   "execution_count": 98,
   "id": "27ebfa5a-86d8-4b28-bf31-b160240ffbd7",
   "metadata": {
    "tags": []
   },
   "outputs": [
    {
     "data": {
      "text/plain": [
       "data:\n",
       "- has_artifact: false\n",
       "  key: Algorithm\n",
       "  value: Sequential\n",
       "- has_artifact: false\n",
       "  key: Framework\n",
       "  value: tensorflow\n",
       "- has_artifact: false\n",
       "  key: FrameworkVersion\n",
       "  value: 2.20.0\n",
       "- has_artifact: false\n",
       "  key: UseCaseType\n",
       "  value: multinomial_classification\n",
       "- has_artifact: false\n",
       "  key: Hyperparameters\n",
       "  value: null\n",
       "- has_artifact: false\n",
       "  key: ArtifactTestResults\n",
       "  value: null"
      ]
     },
     "execution_count": 98,
     "metadata": {},
     "output_type": "execute_result"
    }
   ],
   "source": [
    "tf_model.metadata_taxonomy"
   ]
  },
  {
   "cell_type": "markdown",
   "id": "b9e79ffe-a47d-489d-af89-a247f3f89fb0",
   "metadata": {},
   "source": [
    "### <font color=\"white\">4.5 Verifying the Model</font>\n",
    "if you make changes to the score.py file which is part of the model artefact, it should be verified.\n",
    " \n",
    "This allows the code to be debugged without having to save the model to the catalog\n",
    "\n",
    "The verify method takes a set of parameters and performs predictions by calling the predict() function"
   ]
  },
  {
   "cell_type": "code",
   "execution_count": 99,
   "id": "dbb616c6-9b68-46e4-b6f3-d4cdb77dcee1",
   "metadata": {
    "tags": []
   },
   "outputs": [
    {
     "name": "stdout",
     "output_type": "stream",
     "text": [
      "Start loading model.h5 from model directory /home/datascience/Acquiredskills_demos/Cloud_Development/Oracle_Cloud_Data_Science/serialized_models ...\n",
      "WARNING:absl:Compiled the loaded model, but the compiled metrics have yet to be built. `model.compile_metrics` will be empty until you train or evaluate the model.\n",
      "Model is successfully loaded.\n"
     ]
    },
    {
     "data": {
      "text/plain": [
       "{'prediction': [[-4.362089157104492,\n",
       "   -3.888028383255005,\n",
       "   -3.044466733932495,\n",
       "   -3.371047019958496,\n",
       "   -4.587665557861328,\n",
       "   3.0824496746063232,\n",
       "   -2.7359306812286377,\n",
       "   3.0371804237365723,\n",
       "   1.4472779035568237,\n",
       "   4.476154804229736]]}"
      ]
     },
     "execution_count": 99,
     "metadata": {},
     "output_type": "execute_result"
    }
   ],
   "source": [
    "tf_model.verify(TFModel().x_test[0:1])"
   ]
  },
  {
   "cell_type": "markdown",
   "id": "323dd119-5e34-45e3-bc2a-a3b2c27c6595",
   "metadata": {},
   "source": [
    "### <font color=\"white\">4.5.1 Track the Model Serialization</font>"
   ]
  },
  {
   "cell_type": "code",
   "execution_count": 100,
   "id": "77fbca82-c90f-47d0-8995-edf64c9aef32",
   "metadata": {
    "tags": []
   },
   "outputs": [
    {
     "data": {
      "text/html": [
       "<div>\n",
       "<style scoped>\n",
       "    .dataframe tbody tr th:only-of-type {\n",
       "        vertical-align: middle;\n",
       "    }\n",
       "\n",
       "    .dataframe tbody tr th {\n",
       "        vertical-align: top;\n",
       "    }\n",
       "\n",
       "    .dataframe thead th {\n",
       "        text-align: right;\n",
       "    }\n",
       "</style>\n",
       "<table border=\"1\" class=\"dataframe\">\n",
       "  <thead>\n",
       "    <tr style=\"text-align: right;\">\n",
       "      <th></th>\n",
       "      <th></th>\n",
       "      <th></th>\n",
       "      <th>Actions Needed</th>\n",
       "    </tr>\n",
       "    <tr>\n",
       "      <th>Step</th>\n",
       "      <th>Status</th>\n",
       "      <th>Details</th>\n",
       "      <th></th>\n",
       "    </tr>\n",
       "  </thead>\n",
       "  <tbody>\n",
       "    <tr>\n",
       "      <th>initiate</th>\n",
       "      <th>Done</th>\n",
       "      <th>Initiated the model</th>\n",
       "      <td></td>\n",
       "    </tr>\n",
       "    <tr>\n",
       "      <th rowspan=\"4\" valign=\"top\">prepare()</th>\n",
       "      <th rowspan=\"4\" valign=\"top\">Done</th>\n",
       "      <th>Generated runtime.yaml</th>\n",
       "      <td></td>\n",
       "    </tr>\n",
       "    <tr>\n",
       "      <th>Generated score.py</th>\n",
       "      <td></td>\n",
       "    </tr>\n",
       "    <tr>\n",
       "      <th>Serialized model</th>\n",
       "      <td></td>\n",
       "    </tr>\n",
       "    <tr>\n",
       "      <th>Populated metadata(Custom, Taxonomy and Provenance)</th>\n",
       "      <td></td>\n",
       "    </tr>\n",
       "    <tr>\n",
       "      <th>verify()</th>\n",
       "      <th>Done</th>\n",
       "      <th>Local tested .predict from score.py</th>\n",
       "      <td></td>\n",
       "    </tr>\n",
       "    <tr>\n",
       "      <th rowspan=\"2\" valign=\"top\">save()</th>\n",
       "      <th rowspan=\"2\" valign=\"top\">Available</th>\n",
       "      <th>Conducted Introspect Test</th>\n",
       "      <td></td>\n",
       "    </tr>\n",
       "    <tr>\n",
       "      <th>Uploaded artifact to model catalog</th>\n",
       "      <td></td>\n",
       "    </tr>\n",
       "    <tr>\n",
       "      <th>deploy()</th>\n",
       "      <th>UNKNOWN</th>\n",
       "      <th>Deployed the model</th>\n",
       "      <td></td>\n",
       "    </tr>\n",
       "    <tr>\n",
       "      <th>predict()</th>\n",
       "      <th>Not Available</th>\n",
       "      <th>Called deployment predict endpoint</th>\n",
       "      <td></td>\n",
       "    </tr>\n",
       "  </tbody>\n",
       "</table>\n",
       "</div>"
      ],
      "text/plain": [
       "                                                                            Actions Needed\n",
       "Step      Status        Details                                                           \n",
       "initiate  Done          Initiated the model                                               \n",
       "prepare() Done          Generated runtime.yaml                                            \n",
       "                        Generated score.py                                                \n",
       "                        Serialized model                                                  \n",
       "                        Populated metadata(Custom, Taxonomy and Provenance)               \n",
       "verify()  Done          Local tested .predict from score.py                               \n",
       "save()    Available     Conducted Introspect Test                                         \n",
       "                        Uploaded artifact to model catalog                                \n",
       "deploy()  UNKNOWN       Deployed the model                                                \n",
       "predict() Not Available Called deployment predict endpoint                                "
      ]
     },
     "execution_count": 100,
     "metadata": {},
     "output_type": "execute_result"
    }
   ],
   "source": [
    "tf_model.summary_status()"
   ]
  },
  {
   "cell_type": "markdown",
   "id": "e5fb64ff-1e87-40d4-9416-9746f466ee26",
   "metadata": {},
   "source": [
    "### <font color=\"white\">4.6 Saving the Model</font>\n",
    "\n",
    "This process saves the model to the model catalog and returns its OCID"
   ]
  },
  {
   "cell_type": "code",
   "execution_count": 101,
   "id": "2dc4a94f-fcb8-40fa-b96b-f544abefcedc",
   "metadata": {
    "tags": []
   },
   "outputs": [
    {
     "name": "stdout",
     "output_type": "stream",
     "text": [
      "Start loading model.h5 from model directory /home/datascience/Acquiredskills_demos/Cloud_Development/Oracle_Cloud_Data_Science/serialized_models ...\n",
      "WARNING:absl:Compiled the loaded model, but the compiled metrics have yet to be built. `model.compile_metrics` will be empty until you train or evaluate the model.\n",
      "Model is successfully loaded.\n",
      "['output_schema.json', '.model-ignore', 'test_json_output.json', 'runtime.yaml', 'model.h5', 'score.py']\n"
     ]
    },
    {
     "name": "stderr",
     "output_type": "stream",
     "text": [
      "ERROR - Exception\n",
      "Traceback (most recent call last):\n",
      "  File \"/home/datascience/conda/automlx251_p311_cpu_x86_64_v2/lib/python3.11/site-packages/IPython/core/interactiveshell.py\", line 3508, in run_code\n",
      "    exec(code_obj, self.user_global_ns, self.user_ns)\n",
      "  File \"/tmp/ipykernel_25949/3824151614.py\", line 1, in <module>\n",
      "    model_id=tf_model.save(display_name='Demo FMNIST TensorFlow Model')\n",
      "             ^^^^^^^^^^^^^^^^^^^^^^^^^^^^^^^^^^^^^^^^^^^^^^^^^^^^^^^^^^\n",
      "  File \"/home/datascience/conda/automlx251_p311_cpu_x86_64_v2/lib/python3.11/site-packages/ads/model/generic_model.py\", line 2211, in save\n",
      "    self.dsc_model = (\n",
      "                     ^\n",
      "  File \"/home/datascience/conda/automlx251_p311_cpu_x86_64_v2/lib/python3.11/site-packages/ads/model/datascience_model.py\", line 1260, in create\n",
      "    self.dsc_model = self._to_oci_dsc_model(**kwargs).create()\n",
      "                     ^^^^^^^^^^^^^^^^^^^^^^^^^^^^^^^^^^^^^^^^^\n",
      "  File \"/home/datascience/conda/automlx251_p311_cpu_x86_64_v2/lib/python3.11/site-packages/ads/model/service/oci_datascience_model.py\", line 204, in create\n",
      "    self.client.create_model(self.to_oci_model(CreateModelDetails)).data\n",
      "    ^^^^^^^^^^^^^^^^^^^^^^^^^^^^^^^^^^^^^^^^^^^^^^^^^^^^^^^^^^^^^^^\n",
      "  File \"/home/datascience/conda/automlx251_p311_cpu_x86_64_v2/lib/python3.11/site-packages/oci/data_science/data_science_client.py\", line 3390, in create_model\n",
      "    return retry_strategy.make_retrying_call(\n",
      "           ^^^^^^^^^^^^^^^^^^^^^^^^^^^^^^^^^^\n",
      "  File \"/home/datascience/conda/automlx251_p311_cpu_x86_64_v2/lib/python3.11/site-packages/oci/retry/retry.py\", line 308, in make_retrying_call\n",
      "    response = func_ref(*func_args, **func_kwargs)\n",
      "               ^^^^^^^^^^^^^^^^^^^^^^^^^^^^^^^^^^^\n",
      "  File \"/home/datascience/conda/automlx251_p311_cpu_x86_64_v2/lib/python3.11/site-packages/oci/base_client.py\", line 520, in call_api\n",
      "    return self.request(request, allow_control_chars, operation_name, api_reference_link)\n",
      "           ^^^^^^^^^^^^^^^^^^^^^^^^^^^^^^^^^^^^^^^^^^^^^^^^^^^^^^^^^^^^^^^^^^^^^^^^^^^^^^\n",
      "  File \"/home/datascience/conda/automlx251_p311_cpu_x86_64_v2/lib/python3.11/site-packages/circuitbreaker.py\", line 146, in wrapper\n",
      "    return self.call(function, *args, **kwargs)\n",
      "           ^^^^^^^^^^^^^^^^^^^^^^^^^^^^^^^^^^^^\n",
      "  File \"/home/datascience/conda/automlx251_p311_cpu_x86_64_v2/lib/python3.11/site-packages/circuitbreaker.py\", line 188, in call\n",
      "    return func(*args, **kwargs)\n",
      "           ^^^^^^^^^^^^^^^^^^^^^\n",
      "  File \"/home/datascience/conda/automlx251_p311_cpu_x86_64_v2/lib/python3.11/site-packages/oci/base_client.py\", line 721, in request\n",
      "    self.raise_service_error(request, response, service_code, message, operation_name, api_reference_link, target_service, request_endpoint, client_version, timestamp, deserialized_data)\n",
      "  File \"/home/datascience/conda/automlx251_p311_cpu_x86_64_v2/lib/python3.11/site-packages/oci/base_client.py\", line 886, in raise_service_error\n",
      "    raise exceptions.ServiceError(\n",
      "oci.exceptions.ServiceError: {'target_service': 'data_science', 'status': 404, 'code': 'NotAuthorizedOrNotFound', 'opc-request-id': '133EE4130BE1452EAA77246FF1323CDC/B74A58C798DAFADBC756006950485875/37F721D8BF60C87FCC680AEE84320784', 'message': 'Authorization failed or requested resource not found.', 'operation_name': 'create_model', 'timestamp': '2025-10-28T05:38:15.766384+00:00', 'client_version': 'Oracle-PythonSDK/2.149.2', 'request_endpoint': 'POST https://datascience.us-phoenix-1.oci.oraclecloud.com/20190101/models', 'logging_tips': 'To get more info on the failing request, refer to https://docs.oracle.com/en-us/iaas/tools/python/latest/logging.html for ways to log the request/response details.', 'troubleshooting_tips': \"See https://docs.oracle.com/iaas/Content/API/References/apierrors.htm#apierrors_404__404_notauthorizedornotfound for more information about resolving this error. Also see https://docs.oracle.com/iaas/api/#/en/data-science/20190101/Model/CreateModel for details on this operation's requirements. If you are unable to resolve this data_science issue, please contact Oracle support and provide them this full error message.\"}\n",
      "ServiceError: {'target_service': 'data_science', 'status': 404, 'code': 'NotAuthorizedOrNotFound', 'opc-request-id': '133EE4130BE1452EAA77246FF1323CDC/B74A58C798DAFADBC756006950485875/37F721D8BF60C87FCC680AEE84320784', 'message': 'Authorization failed or requested resource not found.', 'operation_name': 'create_model', 'timestamp': '2025-10-28T05:38:15.766384+00:00', 'client_version': 'Oracle-PythonSDK/2.149.2', 'request_endpoint': 'POST https://datascience.us-phoenix-1.oci.oraclecloud.com/20190101/models', 'logging_tips': 'To get more info on the failing request, refer to https://docs.oracle.com/en-us/iaas/tools/python/latest/logging.html for ways to log the request/response details.', 'troubleshooting_tips': \"See https://docs.oracle.com/iaas/Content/API/References/apierrors.htm#apierrors_404__404_notauthorizedornotfound for more information about resolving this error. Also see https://docs.oracle.com/iaas/api/#/en/data-science/20190101/Model/CreateModel for details on this operation's requirements. If you are unable to resolve this data_science issue, please contact Oracle support and provide them this full error message.\"}"
     ]
    }
   ],
   "source": [
    "model_id=tf_model.save(display_name='Demo FMNIST TensorFlow Model')"
   ]
  },
  {
   "cell_type": "code",
   "execution_count": null,
   "id": "c5be3bcf-b3c1-4951-8c40-2692a39f7169",
   "metadata": {},
   "outputs": [],
   "source": []
  }
 ],
 "metadata": {
  "kernelspec": {
   "display_name": "Python [conda env:automlx251_p311_cpu_x86_64_v2]",
   "language": "python",
   "name": "conda-env-automlx251_p311_cpu_x86_64_v2-py"
  },
  "language_info": {
   "codemirror_mode": {
    "name": "ipython",
    "version": 3
   },
   "file_extension": ".py",
   "mimetype": "text/x-python",
   "name": "python",
   "nbconvert_exporter": "python",
   "pygments_lexer": "ipython3",
   "version": "3.11.11"
  }
 },
 "nbformat": 4,
 "nbformat_minor": 5
}
